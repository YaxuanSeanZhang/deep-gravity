{
 "cells": [
  {
   "cell_type": "markdown",
   "id": "reliable-matrix",
   "metadata": {},
   "source": [
    "## Gravity model and metrics\n",
    "\n",
    "This jupyter notebook includes\n",
    " - implementation gravity model to predict human mobility flow based on the origin population, destination population, and distance between the origin and destination\n",
    " - metrics to evaluate the model fitness\n",
    "\n"
   ]
  },
  {
   "cell_type": "code",
   "execution_count": 10,
   "id": "optimum-nightmare",
   "metadata": {
    "tags": []
   },
   "outputs": [],
   "source": [
    "import pandas as pd\n",
    "import os\n",
    "import numpy as np\n",
    "\n",
    "os.environ['USE_PYGEOS'] = '0'\n",
    "import geopandas as gpd\n",
    "\n",
    "from scipy.optimize import curve_fit\n",
    "\n",
    "import seaborn as sns\n",
    "\n",
    "from shapely.geometry import LineString\n",
    "\n",
    "from keplergl import KeplerGl"
   ]
  },
  {
   "cell_type": "markdown",
   "id": "impossible-tolerance",
   "metadata": {},
   "source": [
    "### load human mobility flow data"
   ]
  },
  {
   "cell_type": "code",
   "execution_count": 11,
   "id": "secondary-guatemala",
   "metadata": {
    "tags": []
   },
   "outputs": [
    {
     "name": "stdout",
     "output_type": "stream",
     "text": [
      "(544496, 4)\n",
      "CPU times: user 123 ms, sys: 90.9 ms, total: 214 ms\n",
      "Wall time: 5.35 s\n"
     ]
    },
    {
     "data": {
      "text/html": [
       "<div>\n",
       "<style scoped>\n",
       "    .dataframe tbody tr th:only-of-type {\n",
       "        vertical-align: middle;\n",
       "    }\n",
       "\n",
       "    .dataframe tbody tr th {\n",
       "        vertical-align: top;\n",
       "    }\n",
       "\n",
       "    .dataframe thead th {\n",
       "        text-align: right;\n",
       "    }\n",
       "</style>\n",
       "<table border=\"1\" class=\"dataframe\">\n",
       "  <thead>\n",
       "    <tr style=\"text-align: right;\">\n",
       "      <th></th>\n",
       "      <th>cell_o</th>\n",
       "      <th>cell_d</th>\n",
       "      <th>flow</th>\n",
       "      <th>date</th>\n",
       "    </tr>\n",
       "  </thead>\n",
       "  <tbody>\n",
       "    <tr>\n",
       "      <th>0</th>\n",
       "      <td>0</td>\n",
       "      <td>3</td>\n",
       "      <td>2</td>\n",
       "      <td>20210708</td>\n",
       "    </tr>\n",
       "    <tr>\n",
       "      <th>1</th>\n",
       "      <td>0</td>\n",
       "      <td>11</td>\n",
       "      <td>1</td>\n",
       "      <td>20210708</td>\n",
       "    </tr>\n",
       "    <tr>\n",
       "      <th>2</th>\n",
       "      <td>0</td>\n",
       "      <td>37</td>\n",
       "      <td>1</td>\n",
       "      <td>20210708</td>\n",
       "    </tr>\n",
       "    <tr>\n",
       "      <th>3</th>\n",
       "      <td>0</td>\n",
       "      <td>64</td>\n",
       "      <td>1</td>\n",
       "      <td>20210708</td>\n",
       "    </tr>\n",
       "    <tr>\n",
       "      <th>4</th>\n",
       "      <td>0</td>\n",
       "      <td>155</td>\n",
       "      <td>1</td>\n",
       "      <td>20210708</td>\n",
       "    </tr>\n",
       "  </tbody>\n",
       "</table>\n",
       "</div>"
      ],
      "text/plain": [
       "   cell_o  cell_d  flow      date\n",
       "0       0       3     2  20210708\n",
       "1       0      11     1  20210708\n",
       "2       0      37     1  20210708\n",
       "3       0      64     1  20210708\n",
       "4       0     155     1  20210708"
      ]
     },
     "execution_count": 11,
     "metadata": {},
     "output_type": "execute_result"
    }
   ],
   "source": [
    "%%time\n",
    "file_path = os.path.join(os.getcwd(), 'data', 'od_table')\n",
    "file_names = os.listdir(file_path)\n",
    "\n",
    "data_frames = []\n",
    "for file_name in file_names:\n",
    "    if file_name.endswith(\".csv\"):\n",
    "        df = pd.read_csv(os.path.join(file_path, file_name))\n",
    "        df[\"date\"] = file_name[3:11]\n",
    "        data_frames.append(df)\n",
    "        \n",
    "flow = pd.concat(data_frames, ignore_index=True)\n",
    "data_frames = None\n",
    "print(flow.shape)\n",
    "\n",
    "flow.head()"
   ]
  },
  {
   "cell_type": "code",
   "execution_count": 12,
   "id": "racial-cotton",
   "metadata": {
    "tags": []
   },
   "outputs": [
    {
     "name": "stdout",
     "output_type": "stream",
     "text": [
      "(8159, 3)\n"
     ]
    },
    {
     "data": {
      "text/html": [
       "<div>\n",
       "<style scoped>\n",
       "    .dataframe tbody tr th:only-of-type {\n",
       "        vertical-align: middle;\n",
       "    }\n",
       "\n",
       "    .dataframe tbody tr th {\n",
       "        vertical-align: top;\n",
       "    }\n",
       "\n",
       "    .dataframe thead th {\n",
       "        text-align: right;\n",
       "    }\n",
       "</style>\n",
       "<table border=\"1\" class=\"dataframe\">\n",
       "  <thead>\n",
       "    <tr style=\"text-align: right;\">\n",
       "      <th></th>\n",
       "      <th>date</th>\n",
       "      <th>cell_o</th>\n",
       "      <th>count_start</th>\n",
       "    </tr>\n",
       "  </thead>\n",
       "  <tbody>\n",
       "    <tr>\n",
       "      <th>0</th>\n",
       "      <td>20210701</td>\n",
       "      <td>0</td>\n",
       "      <td>13</td>\n",
       "    </tr>\n",
       "    <tr>\n",
       "      <th>1</th>\n",
       "      <td>20210701</td>\n",
       "      <td>1</td>\n",
       "      <td>16</td>\n",
       "    </tr>\n",
       "    <tr>\n",
       "      <th>2</th>\n",
       "      <td>20210701</td>\n",
       "      <td>2</td>\n",
       "      <td>76</td>\n",
       "    </tr>\n",
       "    <tr>\n",
       "      <th>3</th>\n",
       "      <td>20210701</td>\n",
       "      <td>3</td>\n",
       "      <td>74</td>\n",
       "    </tr>\n",
       "    <tr>\n",
       "      <th>4</th>\n",
       "      <td>20210701</td>\n",
       "      <td>4</td>\n",
       "      <td>8</td>\n",
       "    </tr>\n",
       "  </tbody>\n",
       "</table>\n",
       "</div>"
      ],
      "text/plain": [
       "       date  cell_o  count_start\n",
       "0  20210701       0           13\n",
       "1  20210701       1           16\n",
       "2  20210701       2           76\n",
       "3  20210701       3           74\n",
       "4  20210701       4            8"
      ]
     },
     "execution_count": 12,
     "metadata": {},
     "output_type": "execute_result"
    }
   ],
   "source": [
    "flow_start = flow.groupby(['date', 'cell_o'])[['flow']].agg('sum').reset_index()\n",
    "flow_start.rename(columns = {'flow': 'count_start'}, inplace=True)\n",
    "print(flow_start.shape)\n",
    "flow_start.head()"
   ]
  },
  {
   "cell_type": "code",
   "execution_count": 13,
   "id": "becoming-mauritius",
   "metadata": {
    "tags": []
   },
   "outputs": [
    {
     "name": "stdout",
     "output_type": "stream",
     "text": [
      "(8162, 3)\n"
     ]
    },
    {
     "data": {
      "text/html": [
       "<div>\n",
       "<style scoped>\n",
       "    .dataframe tbody tr th:only-of-type {\n",
       "        vertical-align: middle;\n",
       "    }\n",
       "\n",
       "    .dataframe tbody tr th {\n",
       "        vertical-align: top;\n",
       "    }\n",
       "\n",
       "    .dataframe thead th {\n",
       "        text-align: right;\n",
       "    }\n",
       "</style>\n",
       "<table border=\"1\" class=\"dataframe\">\n",
       "  <thead>\n",
       "    <tr style=\"text-align: right;\">\n",
       "      <th></th>\n",
       "      <th>date</th>\n",
       "      <th>cell_d</th>\n",
       "      <th>count_end</th>\n",
       "    </tr>\n",
       "  </thead>\n",
       "  <tbody>\n",
       "    <tr>\n",
       "      <th>0</th>\n",
       "      <td>20210701</td>\n",
       "      <td>0</td>\n",
       "      <td>13</td>\n",
       "    </tr>\n",
       "    <tr>\n",
       "      <th>1</th>\n",
       "      <td>20210701</td>\n",
       "      <td>1</td>\n",
       "      <td>20</td>\n",
       "    </tr>\n",
       "    <tr>\n",
       "      <th>2</th>\n",
       "      <td>20210701</td>\n",
       "      <td>2</td>\n",
       "      <td>62</td>\n",
       "    </tr>\n",
       "    <tr>\n",
       "      <th>3</th>\n",
       "      <td>20210701</td>\n",
       "      <td>3</td>\n",
       "      <td>72</td>\n",
       "    </tr>\n",
       "    <tr>\n",
       "      <th>4</th>\n",
       "      <td>20210701</td>\n",
       "      <td>4</td>\n",
       "      <td>9</td>\n",
       "    </tr>\n",
       "  </tbody>\n",
       "</table>\n",
       "</div>"
      ],
      "text/plain": [
       "       date  cell_d  count_end\n",
       "0  20210701       0         13\n",
       "1  20210701       1         20\n",
       "2  20210701       2         62\n",
       "3  20210701       3         72\n",
       "4  20210701       4          9"
      ]
     },
     "execution_count": 13,
     "metadata": {},
     "output_type": "execute_result"
    }
   ],
   "source": [
    "flow_end = flow.groupby(['date', 'cell_d'])[['flow']].agg('sum').reset_index()\n",
    "flow_end.rename(columns = {'flow': 'count_end'}, inplace=True)\n",
    "print(flow_end.shape)\n",
    "flow_end.head()"
   ]
  },
  {
   "cell_type": "code",
   "execution_count": 14,
   "id": "derived-anatomy",
   "metadata": {
    "tags": []
   },
   "outputs": [
    {
     "name": "stdout",
     "output_type": "stream",
     "text": [
      "(544496, 4)\n",
      "(544496, 5)\n",
      "(544496, 6)\n",
      "cell_o         0\n",
      "cell_d         0\n",
      "flow           0\n",
      "date           0\n",
      "count_start    0\n",
      "count_end      0\n",
      "dtype: int64\n"
     ]
    },
    {
     "data": {
      "text/html": [
       "<div>\n",
       "<style scoped>\n",
       "    .dataframe tbody tr th:only-of-type {\n",
       "        vertical-align: middle;\n",
       "    }\n",
       "\n",
       "    .dataframe tbody tr th {\n",
       "        vertical-align: top;\n",
       "    }\n",
       "\n",
       "    .dataframe thead th {\n",
       "        text-align: right;\n",
       "    }\n",
       "</style>\n",
       "<table border=\"1\" class=\"dataframe\">\n",
       "  <thead>\n",
       "    <tr style=\"text-align: right;\">\n",
       "      <th></th>\n",
       "      <th>cell_o</th>\n",
       "      <th>cell_d</th>\n",
       "      <th>flow</th>\n",
       "      <th>date</th>\n",
       "      <th>count_start</th>\n",
       "      <th>count_end</th>\n",
       "    </tr>\n",
       "  </thead>\n",
       "  <tbody>\n",
       "    <tr>\n",
       "      <th>0</th>\n",
       "      <td>0</td>\n",
       "      <td>3</td>\n",
       "      <td>2</td>\n",
       "      <td>20210708</td>\n",
       "      <td>10</td>\n",
       "      <td>66</td>\n",
       "    </tr>\n",
       "    <tr>\n",
       "      <th>1</th>\n",
       "      <td>1</td>\n",
       "      <td>3</td>\n",
       "      <td>1</td>\n",
       "      <td>20210708</td>\n",
       "      <td>11</td>\n",
       "      <td>66</td>\n",
       "    </tr>\n",
       "    <tr>\n",
       "      <th>2</th>\n",
       "      <td>2</td>\n",
       "      <td>3</td>\n",
       "      <td>13</td>\n",
       "      <td>20210708</td>\n",
       "      <td>57</td>\n",
       "      <td>66</td>\n",
       "    </tr>\n",
       "    <tr>\n",
       "      <th>3</th>\n",
       "      <td>4</td>\n",
       "      <td>3</td>\n",
       "      <td>4</td>\n",
       "      <td>20210708</td>\n",
       "      <td>10</td>\n",
       "      <td>66</td>\n",
       "    </tr>\n",
       "    <tr>\n",
       "      <th>4</th>\n",
       "      <td>9</td>\n",
       "      <td>3</td>\n",
       "      <td>1</td>\n",
       "      <td>20210708</td>\n",
       "      <td>6</td>\n",
       "      <td>66</td>\n",
       "    </tr>\n",
       "  </tbody>\n",
       "</table>\n",
       "</div>"
      ],
      "text/plain": [
       "   cell_o  cell_d  flow      date  count_start  count_end\n",
       "0       0       3     2  20210708           10         66\n",
       "1       1       3     1  20210708           11         66\n",
       "2       2       3    13  20210708           57         66\n",
       "3       4       3     4  20210708           10         66\n",
       "4       9       3     1  20210708            6         66"
      ]
     },
     "execution_count": 14,
     "metadata": {},
     "output_type": "execute_result"
    }
   ],
   "source": [
    "print(flow.shape)\n",
    "flow = pd.merge(left = flow, right = flow_start, on = ['date', 'cell_o'], how = 'inner')\n",
    "print(flow.shape)\n",
    "flow = pd.merge(left = flow, right = flow_end, on = ['date', 'cell_d'], how = 'inner')\n",
    "print(flow.shape)\n",
    "print(flow.isna().sum())\n",
    "flow.head()"
   ]
  },
  {
   "cell_type": "markdown",
   "id": "compact-niger",
   "metadata": {},
   "source": [
    "### load distance data"
   ]
  },
  {
   "cell_type": "code",
   "execution_count": 16,
   "id": "civic-simulation",
   "metadata": {
    "tags": []
   },
   "outputs": [
    {
     "name": "stdout",
     "output_type": "stream",
     "text": [
      "(925, 925)\n"
     ]
    },
    {
     "data": {
      "text/html": [
       "<div>\n",
       "<style scoped>\n",
       "    .dataframe tbody tr th:only-of-type {\n",
       "        vertical-align: middle;\n",
       "    }\n",
       "\n",
       "    .dataframe tbody tr th {\n",
       "        vertical-align: top;\n",
       "    }\n",
       "\n",
       "    .dataframe thead th {\n",
       "        text-align: right;\n",
       "    }\n",
       "</style>\n",
       "<table border=\"1\" class=\"dataframe\">\n",
       "  <thead>\n",
       "    <tr style=\"text-align: right;\">\n",
       "      <th></th>\n",
       "      <th>0</th>\n",
       "      <th>1</th>\n",
       "      <th>2</th>\n",
       "      <th>3</th>\n",
       "      <th>4</th>\n",
       "      <th>5</th>\n",
       "      <th>6</th>\n",
       "      <th>7</th>\n",
       "      <th>8</th>\n",
       "      <th>9</th>\n",
       "      <th>...</th>\n",
       "      <th>915</th>\n",
       "      <th>916</th>\n",
       "      <th>917</th>\n",
       "      <th>918</th>\n",
       "      <th>919</th>\n",
       "      <th>920</th>\n",
       "      <th>921</th>\n",
       "      <th>922</th>\n",
       "      <th>923</th>\n",
       "      <th>924</th>\n",
       "    </tr>\n",
       "  </thead>\n",
       "  <tbody>\n",
       "    <tr>\n",
       "      <th>0</th>\n",
       "      <td>0.000000</td>\n",
       "      <td>3.001186</td>\n",
       "      <td>6.002375</td>\n",
       "      <td>9.003569</td>\n",
       "      <td>12.004765</td>\n",
       "      <td>15.005963</td>\n",
       "      <td>18.007162</td>\n",
       "      <td>3.001183</td>\n",
       "      <td>4.244317</td>\n",
       "      <td>6.710860</td>\n",
       "      <td>...</td>\n",
       "      <td>102.216443</td>\n",
       "      <td>102.084273</td>\n",
       "      <td>102.040232</td>\n",
       "      <td>102.084435</td>\n",
       "      <td>102.216768</td>\n",
       "      <td>102.436888</td>\n",
       "      <td>102.744232</td>\n",
       "      <td>103.138022</td>\n",
       "      <td>103.617270</td>\n",
       "      <td>104.180797</td>\n",
       "    </tr>\n",
       "    <tr>\n",
       "      <th>1</th>\n",
       "      <td>3.001186</td>\n",
       "      <td>0.000000</td>\n",
       "      <td>3.001190</td>\n",
       "      <td>6.002383</td>\n",
       "      <td>9.003579</td>\n",
       "      <td>12.004777</td>\n",
       "      <td>15.005977</td>\n",
       "      <td>4.244317</td>\n",
       "      <td>3.001188</td>\n",
       "      <td>4.244323</td>\n",
       "      <td>...</td>\n",
       "      <td>102.436585</td>\n",
       "      <td>102.216616</td>\n",
       "      <td>102.084435</td>\n",
       "      <td>102.040383</td>\n",
       "      <td>102.084575</td>\n",
       "      <td>102.216896</td>\n",
       "      <td>102.437005</td>\n",
       "      <td>102.744339</td>\n",
       "      <td>103.138117</td>\n",
       "      <td>103.617354</td>\n",
       "    </tr>\n",
       "    <tr>\n",
       "      <th>2</th>\n",
       "      <td>6.002375</td>\n",
       "      <td>3.001190</td>\n",
       "      <td>0.000000</td>\n",
       "      <td>3.001193</td>\n",
       "      <td>6.002389</td>\n",
       "      <td>9.003587</td>\n",
       "      <td>12.004787</td>\n",
       "      <td>6.710860</td>\n",
       "      <td>4.244323</td>\n",
       "      <td>3.001192</td>\n",
       "      <td>...</td>\n",
       "      <td>102.743951</td>\n",
       "      <td>102.436748</td>\n",
       "      <td>102.216768</td>\n",
       "      <td>102.084575</td>\n",
       "      <td>102.040512</td>\n",
       "      <td>102.084692</td>\n",
       "      <td>102.217002</td>\n",
       "      <td>102.437100</td>\n",
       "      <td>102.744423</td>\n",
       "      <td>103.138189</td>\n",
       "    </tr>\n",
       "    <tr>\n",
       "      <th>3</th>\n",
       "      <td>9.003569</td>\n",
       "      <td>6.002383</td>\n",
       "      <td>3.001193</td>\n",
       "      <td>0.000000</td>\n",
       "      <td>3.001196</td>\n",
       "      <td>6.002394</td>\n",
       "      <td>9.003594</td>\n",
       "      <td>9.490595</td>\n",
       "      <td>6.710868</td>\n",
       "      <td>4.244328</td>\n",
       "      <td>...</td>\n",
       "      <td>103.137762</td>\n",
       "      <td>102.744103</td>\n",
       "      <td>102.436888</td>\n",
       "      <td>102.216896</td>\n",
       "      <td>102.084692</td>\n",
       "      <td>102.040617</td>\n",
       "      <td>102.084786</td>\n",
       "      <td>102.217085</td>\n",
       "      <td>102.437172</td>\n",
       "      <td>102.744483</td>\n",
       "    </tr>\n",
       "    <tr>\n",
       "      <th>4</th>\n",
       "      <td>12.004765</td>\n",
       "      <td>9.003579</td>\n",
       "      <td>6.002389</td>\n",
       "      <td>3.001196</td>\n",
       "      <td>0.000000</td>\n",
       "      <td>3.001198</td>\n",
       "      <td>6.002398</td>\n",
       "      <td>12.374228</td>\n",
       "      <td>9.490606</td>\n",
       "      <td>6.710875</td>\n",
       "      <td>...</td>\n",
       "      <td>103.617032</td>\n",
       "      <td>103.137903</td>\n",
       "      <td>102.744232</td>\n",
       "      <td>102.437005</td>\n",
       "      <td>102.217002</td>\n",
       "      <td>102.084786</td>\n",
       "      <td>102.040700</td>\n",
       "      <td>102.084858</td>\n",
       "      <td>102.217146</td>\n",
       "      <td>102.437222</td>\n",
       "    </tr>\n",
       "  </tbody>\n",
       "</table>\n",
       "<p>5 rows × 925 columns</p>\n",
       "</div>"
      ],
      "text/plain": [
       "           0         1         2         3          4          5          6  \\\n",
       "0   0.000000  3.001186  6.002375  9.003569  12.004765  15.005963  18.007162   \n",
       "1   3.001186  0.000000  3.001190  6.002383   9.003579  12.004777  15.005977   \n",
       "2   6.002375  3.001190  0.000000  3.001193   6.002389   9.003587  12.004787   \n",
       "3   9.003569  6.002383  3.001193  0.000000   3.001196   6.002394   9.003594   \n",
       "4  12.004765  9.003579  6.002389  3.001196   0.000000   3.001198   6.002398   \n",
       "\n",
       "           7         8         9  ...         915         916         917  \\\n",
       "0   3.001183  4.244317  6.710860  ...  102.216443  102.084273  102.040232   \n",
       "1   4.244317  3.001188  4.244323  ...  102.436585  102.216616  102.084435   \n",
       "2   6.710860  4.244323  3.001192  ...  102.743951  102.436748  102.216768   \n",
       "3   9.490595  6.710868  4.244328  ...  103.137762  102.744103  102.436888   \n",
       "4  12.374228  9.490606  6.710875  ...  103.617032  103.137903  102.744232   \n",
       "\n",
       "          918         919         920         921         922         923  \\\n",
       "0  102.084435  102.216768  102.436888  102.744232  103.138022  103.617270   \n",
       "1  102.040383  102.084575  102.216896  102.437005  102.744339  103.138117   \n",
       "2  102.084575  102.040512  102.084692  102.217002  102.437100  102.744423   \n",
       "3  102.216896  102.084692  102.040617  102.084786  102.217085  102.437172   \n",
       "4  102.437005  102.217002  102.084786  102.040700  102.084858  102.217146   \n",
       "\n",
       "          924  \n",
       "0  104.180797  \n",
       "1  103.617354  \n",
       "2  103.138189  \n",
       "3  102.744483  \n",
       "4  102.437222  \n",
       "\n",
       "[5 rows x 925 columns]"
      ]
     },
     "execution_count": 16,
     "metadata": {},
     "output_type": "execute_result"
    }
   ],
   "source": [
    "distance_wide = pd.read_csv(os.path.join(os.getcwd(), 'data', 'dist_matrix.csv'))\n",
    "print(distance_wide.shape)\n",
    "distance_wide.head()"
   ]
  },
  {
   "cell_type": "code",
   "execution_count": 17,
   "id": "opposite-bidding",
   "metadata": {
    "tags": []
   },
   "outputs": [
    {
     "data": {
      "text/html": [
       "<div>\n",
       "<style scoped>\n",
       "    .dataframe tbody tr th:only-of-type {\n",
       "        vertical-align: middle;\n",
       "    }\n",
       "\n",
       "    .dataframe tbody tr th {\n",
       "        vertical-align: top;\n",
       "    }\n",
       "\n",
       "    .dataframe thead th {\n",
       "        text-align: right;\n",
       "    }\n",
       "</style>\n",
       "<table border=\"1\" class=\"dataframe\">\n",
       "  <thead>\n",
       "    <tr style=\"text-align: right;\">\n",
       "      <th></th>\n",
       "      <th>cell_o</th>\n",
       "      <th>cell_d</th>\n",
       "      <th>spatial_distance</th>\n",
       "    </tr>\n",
       "  </thead>\n",
       "  <tbody>\n",
       "    <tr>\n",
       "      <th>0</th>\n",
       "      <td>0</td>\n",
       "      <td>0</td>\n",
       "      <td>0.000000</td>\n",
       "    </tr>\n",
       "    <tr>\n",
       "      <th>1</th>\n",
       "      <td>0</td>\n",
       "      <td>1</td>\n",
       "      <td>3.001186</td>\n",
       "    </tr>\n",
       "    <tr>\n",
       "      <th>2</th>\n",
       "      <td>0</td>\n",
       "      <td>2</td>\n",
       "      <td>6.002375</td>\n",
       "    </tr>\n",
       "    <tr>\n",
       "      <th>3</th>\n",
       "      <td>0</td>\n",
       "      <td>3</td>\n",
       "      <td>9.003569</td>\n",
       "    </tr>\n",
       "    <tr>\n",
       "      <th>4</th>\n",
       "      <td>0</td>\n",
       "      <td>4</td>\n",
       "      <td>12.004765</td>\n",
       "    </tr>\n",
       "  </tbody>\n",
       "</table>\n",
       "</div>"
      ],
      "text/plain": [
       "   cell_o  cell_d  spatial_distance\n",
       "0       0       0          0.000000\n",
       "1       0       1          3.001186\n",
       "2       0       2          6.002375\n",
       "3       0       3          9.003569\n",
       "4       0       4         12.004765"
      ]
     },
     "execution_count": 17,
     "metadata": {},
     "output_type": "execute_result"
    }
   ],
   "source": [
    "distance_long = distance_wide.stack().reset_index()\n",
    "distance_long.columns = ['cell_o', 'cell_d', 'spatial_distance']\n",
    "distance_long['cell_o'] = distance_long['cell_o'].astype(int)\n",
    "distance_long['cell_d'] = distance_long['cell_d'].astype(int)\n",
    "distance_long.head()"
   ]
  },
  {
   "cell_type": "code",
   "execution_count": 18,
   "id": "quick-captain",
   "metadata": {
    "tags": []
   },
   "outputs": [
    {
     "name": "stdout",
     "output_type": "stream",
     "text": [
      "(544496, 6) (544496, 7)\n"
     ]
    },
    {
     "data": {
      "text/html": [
       "<div>\n",
       "<style scoped>\n",
       "    .dataframe tbody tr th:only-of-type {\n",
       "        vertical-align: middle;\n",
       "    }\n",
       "\n",
       "    .dataframe tbody tr th {\n",
       "        vertical-align: top;\n",
       "    }\n",
       "\n",
       "    .dataframe thead th {\n",
       "        text-align: right;\n",
       "    }\n",
       "</style>\n",
       "<table border=\"1\" class=\"dataframe\">\n",
       "  <thead>\n",
       "    <tr style=\"text-align: right;\">\n",
       "      <th></th>\n",
       "      <th>i</th>\n",
       "      <th>j</th>\n",
       "      <th>true_traffic_flow</th>\n",
       "      <th>date</th>\n",
       "      <th>pop_i</th>\n",
       "      <th>pop_j</th>\n",
       "      <th>dist_ij</th>\n",
       "    </tr>\n",
       "  </thead>\n",
       "  <tbody>\n",
       "    <tr>\n",
       "      <th>0</th>\n",
       "      <td>0</td>\n",
       "      <td>3</td>\n",
       "      <td>2</td>\n",
       "      <td>20210708</td>\n",
       "      <td>10</td>\n",
       "      <td>66</td>\n",
       "      <td>9.003569</td>\n",
       "    </tr>\n",
       "    <tr>\n",
       "      <th>1</th>\n",
       "      <td>0</td>\n",
       "      <td>3</td>\n",
       "      <td>2</td>\n",
       "      <td>20210701</td>\n",
       "      <td>13</td>\n",
       "      <td>72</td>\n",
       "      <td>9.003569</td>\n",
       "    </tr>\n",
       "    <tr>\n",
       "      <th>2</th>\n",
       "      <td>0</td>\n",
       "      <td>3</td>\n",
       "      <td>1</td>\n",
       "      <td>20210702</td>\n",
       "      <td>18</td>\n",
       "      <td>60</td>\n",
       "      <td>9.003569</td>\n",
       "    </tr>\n",
       "    <tr>\n",
       "      <th>3</th>\n",
       "      <td>0</td>\n",
       "      <td>3</td>\n",
       "      <td>4</td>\n",
       "      <td>20210703</td>\n",
       "      <td>22</td>\n",
       "      <td>40</td>\n",
       "      <td>9.003569</td>\n",
       "    </tr>\n",
       "    <tr>\n",
       "      <th>4</th>\n",
       "      <td>0</td>\n",
       "      <td>3</td>\n",
       "      <td>1</td>\n",
       "      <td>20210707</td>\n",
       "      <td>10</td>\n",
       "      <td>62</td>\n",
       "      <td>9.003569</td>\n",
       "    </tr>\n",
       "  </tbody>\n",
       "</table>\n",
       "</div>"
      ],
      "text/plain": [
       "   i  j  true_traffic_flow      date  pop_i  pop_j   dist_ij\n",
       "0  0  3                  2  20210708     10     66  9.003569\n",
       "1  0  3                  2  20210701     13     72  9.003569\n",
       "2  0  3                  1  20210702     18     60  9.003569\n",
       "3  0  3                  4  20210703     22     40  9.003569\n",
       "4  0  3                  1  20210707     10     62  9.003569"
      ]
     },
     "execution_count": 18,
     "metadata": {},
     "output_type": "execute_result"
    }
   ],
   "source": [
    "data = pd.merge(left = flow, right = distance_long, on = ['cell_o', 'cell_d'], how = 'inner')\n",
    "print(flow.shape, data.shape)\n",
    "data.rename(columns = {\n",
    "    'cell_o': 'i', \n",
    "    'cell_d': 'j', \n",
    "    'count_start': 'pop_i', \n",
    "    'count_end': 'pop_j', \n",
    "    'spatial_distance': 'dist_ij', \n",
    "    'flow': 'true_traffic_flow'\n",
    "}, inplace = True)\n",
    "data.head()"
   ]
  },
  {
   "cell_type": "markdown",
   "id": "casual-capability",
   "metadata": {},
   "source": [
    "### gravity model training\n",
    "\n",
    "reference: https://docs.scipy.org/doc/scipy/reference/generated/scipy.optimize.curve_fit.html"
   ]
  },
  {
   "cell_type": "code",
   "execution_count": 40,
   "id": "hired-december",
   "metadata": {
    "tags": []
   },
   "outputs": [
    {
     "name": "stdout",
     "output_type": "stream",
     "text": [
      "(66349, 8)\n",
      "(478147, 8)\n"
     ]
    }
   ],
   "source": [
    "test = data.query('date==\"20210709\"').copy()\n",
    "train = data.query('date!=\"20210709\"').copy()\n",
    "\n",
    "test['observed_traffic_flow'] = test['true_traffic_flow']\n",
    "train['observed_traffic_flow'] = train['true_traffic_flow']\n",
    "\n",
    "print(test.shape)\n",
    "print(train.shape)"
   ]
  },
  {
   "cell_type": "code",
   "execution_count": 41,
   "id": "veterinary-birthday",
   "metadata": {
    "tags": []
   },
   "outputs": [
    {
     "name": "stdout",
     "output_type": "stream",
     "text": [
      "Optimized Parameters:\n",
      "alpha: 0.62, beta: 0.62, gamma: 2.89, K: 0.53\n",
      "\n",
      "DataFrame with Results:\n"
     ]
    },
    {
     "data": {
      "text/html": [
       "<div>\n",
       "<style scoped>\n",
       "    .dataframe tbody tr th:only-of-type {\n",
       "        vertical-align: middle;\n",
       "    }\n",
       "\n",
       "    .dataframe tbody tr th {\n",
       "        vertical-align: top;\n",
       "    }\n",
       "\n",
       "    .dataframe thead th {\n",
       "        text-align: right;\n",
       "    }\n",
       "</style>\n",
       "<table border=\"1\" class=\"dataframe\">\n",
       "  <thead>\n",
       "    <tr style=\"text-align: right;\">\n",
       "      <th></th>\n",
       "      <th>i</th>\n",
       "      <th>j</th>\n",
       "      <th>true_traffic_flow</th>\n",
       "      <th>date</th>\n",
       "      <th>pop_i</th>\n",
       "      <th>pop_j</th>\n",
       "      <th>dist_ij</th>\n",
       "      <th>observed_traffic_flow</th>\n",
       "      <th>predicted_traffic_flow</th>\n",
       "    </tr>\n",
       "  </thead>\n",
       "  <tbody>\n",
       "    <tr>\n",
       "      <th>14</th>\n",
       "      <td>2</td>\n",
       "      <td>3</td>\n",
       "      <td>19</td>\n",
       "      <td>20210709</td>\n",
       "      <td>82</td>\n",
       "      <td>72</td>\n",
       "      <td>3.001193</td>\n",
       "      <td>19</td>\n",
       "      <td>4.785861</td>\n",
       "    </tr>\n",
       "    <tr>\n",
       "      <th>23</th>\n",
       "      <td>4</td>\n",
       "      <td>3</td>\n",
       "      <td>1</td>\n",
       "      <td>20210709</td>\n",
       "      <td>7</td>\n",
       "      <td>72</td>\n",
       "      <td>3.001196</td>\n",
       "      <td>1</td>\n",
       "      <td>1.039642</td>\n",
       "    </tr>\n",
       "    <tr>\n",
       "      <th>31</th>\n",
       "      <td>9</td>\n",
       "      <td>3</td>\n",
       "      <td>1</td>\n",
       "      <td>20210709</td>\n",
       "      <td>7</td>\n",
       "      <td>72</td>\n",
       "      <td>4.244328</td>\n",
       "      <td>1</td>\n",
       "      <td>0.382228</td>\n",
       "    </tr>\n",
       "    <tr>\n",
       "      <th>33</th>\n",
       "      <td>11</td>\n",
       "      <td>3</td>\n",
       "      <td>1</td>\n",
       "      <td>20210709</td>\n",
       "      <td>2</td>\n",
       "      <td>72</td>\n",
       "      <td>4.244332</td>\n",
       "      <td>1</td>\n",
       "      <td>0.175695</td>\n",
       "    </tr>\n",
       "    <tr>\n",
       "      <th>39</th>\n",
       "      <td>36</td>\n",
       "      <td>3</td>\n",
       "      <td>1</td>\n",
       "      <td>20210709</td>\n",
       "      <td>29</td>\n",
       "      <td>72</td>\n",
       "      <td>6.710872</td>\n",
       "      <td>1</td>\n",
       "      <td>0.245958</td>\n",
       "    </tr>\n",
       "  </tbody>\n",
       "</table>\n",
       "</div>"
      ],
      "text/plain": [
       "     i  j  true_traffic_flow      date  pop_i  pop_j   dist_ij  \\\n",
       "14   2  3                 19  20210709     82     72  3.001193   \n",
       "23   4  3                  1  20210709      7     72  3.001196   \n",
       "31   9  3                  1  20210709      7     72  4.244328   \n",
       "33  11  3                  1  20210709      2     72  4.244332   \n",
       "39  36  3                  1  20210709     29     72  6.710872   \n",
       "\n",
       "    observed_traffic_flow  predicted_traffic_flow  \n",
       "14                     19                4.785861  \n",
       "23                      1                1.039642  \n",
       "31                      1                0.382228  \n",
       "33                      1                0.175695  \n",
       "39                      1                0.245958  "
      ]
     },
     "execution_count": 41,
     "metadata": {},
     "output_type": "execute_result"
    }
   ],
   "source": [
    "# Gravity model equation\n",
    "def gravity_model(dist, alpha, beta, gamma, K):\n",
    "    return K * (dist['pop_i']**alpha) * (dist['pop_j']**beta) / (dist['dist_ij']**gamma)\n",
    "\n",
    "# Fit the gravity model to the observed data\n",
    "params, covariance = curve_fit(gravity_model, train[['pop_i', 'pop_j', 'dist_ij']], train['observed_traffic_flow'])\n",
    "\n",
    "# Extract the optimized parameters\n",
    "alpha_opt, beta_opt, gamma_opt, K_opt = params\n",
    "\n",
    "# Calculate traffic flow using optimized parameters\n",
    "train['predicted_traffic_flow'] = gravity_model(train[['pop_i', 'pop_j', 'dist_ij']], alpha_opt, beta_opt, gamma_opt, K_opt)\n",
    "test['predicted_traffic_flow'] = gravity_model(test[['pop_i', 'pop_j', 'dist_ij']], alpha_opt, beta_opt, gamma_opt, K_opt)\n",
    "\n",
    "# Print results\n",
    "print(\"Optimized Parameters:\")\n",
    "print(f\"alpha: {alpha_opt:.2f}, beta: {beta_opt:.2f}, gamma: {gamma_opt:.2f}, K: {K_opt:.2f}\")\n",
    "print(\"\\nDataFrame with Results:\")\n",
    "test.head()"
   ]
  },
  {
   "cell_type": "code",
   "execution_count": 21,
   "id": "leading-sheet",
   "metadata": {
    "tags": []
   },
   "outputs": [
    {
     "data": {
      "text/plain": [
       "<Axes: xlabel='observed_traffic_flow', ylabel='predicted_traffic_flow'>"
      ]
     },
     "execution_count": 21,
     "metadata": {},
     "output_type": "execute_result"
    },
    {
     "data": {
      "image/png": "[encoded data removed]",
      "text/plain": [
       "<Figure size 640x480 with 1 Axes>"
      ]
     },
     "metadata": {},
     "output_type": "display_data"
    }
   ],
   "source": [
    "sns.scatterplot(train[['observed_traffic_flow', 'predicted_traffic_flow']].sample(1000), \n",
    "                x=\"observed_traffic_flow\", y='predicted_traffic_flow')"
   ]
  },
  {
   "cell_type": "markdown",
   "id": "mounted-technician",
   "metadata": {},
   "source": [
    "### gravity model evaluation\n",
    "\n",
    "references: https://www.nature.com/articles/s41467-021-26752-4\n",
    "\n",
    "common metric used to evaluate the performance of flow generation models: \n",
    "- Sørensen-Dice index, also called Common Part of Commuters (CPC): similarity between real flows, and generated flows\n",
    "- Pearson correlation coefficient: correlation\n",
    "- Normalized Root Mean Squared Error (NRMSE): error\n",
    "- Jensen-Shannon divergence (JSD): dissimilarity "
   ]
  },
  {
   "cell_type": "code",
   "execution_count": 22,
   "id": "mounted-criminal",
   "metadata": {
    "tags": []
   },
   "outputs": [],
   "source": [
    "# statistics and machine laerning \n",
    "from sklearn.metrics import mean_squared_error\n",
    "from scipy.spatial import distance\n",
    "from scipy.stats.mstats import spearmanr, pearsonr\n",
    "\n",
    "\n",
    "def dice_coefficient(a, b):\n",
    "    \"\"\"Computes the Sørensen–Dice coefficient of two arrays a and b.\"\"\"\n",
    "    intersection = np.sum(np.minimum(a, b))\n",
    "    return (2.0 * intersection) / (np.sum(a) + np.sum(b))\n",
    "\n",
    "def compare_flow(truth_data, pred_data):\n",
    "    pearsonr_c, pearsonr_p = pearsonr(truth_data, pred_data)\n",
    "    spearmanr_c, spearmanr_p = spearmanr(truth_data, pred_data)\n",
    "    rmsr = np.sqrt(mean_squared_error(truth_data, pred_data)) #/ (max(diff) - min(diff))\n",
    "    jsd = distance.jensenshannon(truth_data, pred_data) ** 2\n",
    "    dice = dice_coefficient(truth_data, pred_data)\n",
    "    \n",
    "    return([pearsonr_c, pearsonr_p, spearmanr_c, spearmanr_p, rmsr, jsd, dice])"
   ]
  },
  {
   "cell_type": "code",
   "execution_count": 23,
   "id": "willing-trader",
   "metadata": {
    "tags": []
   },
   "outputs": [
    {
     "name": "stdout",
     "output_type": "stream",
     "text": [
      "[0.916879106460991, 0.0, 0.6887994047784377, 0.0, 12.20600593736994, 0.06326906033616007, 0.7414067272464896]\n",
      "CPU times: user 300 ms, sys: 12.1 ms, total: 312 ms\n",
      "Wall time: 317 ms\n"
     ]
    }
   ],
   "source": [
    "%%time\n",
    "truth_data = test['observed_traffic_flow'].tolist()\n",
    "pred_data = test['predicted_traffic_flow'].tolist()\n",
    "diff = (test['observed_traffic_flow'] - test['predicted_traffic_flow']).tolist()\n",
    "\n",
    "compare_flow_re = compare_flow(truth_data, pred_data)\n",
    "print(compare_flow_re)"
   ]
  },
  {
   "cell_type": "code",
   "execution_count": 24,
   "id": "continental-origin",
   "metadata": {
    "tags": []
   },
   "outputs": [
    {
     "name": "stdout",
     "output_type": "stream",
     "text": [
      "[0.9153339924305575, 0.0, 0.6815762127649561, 0.0, 10.70589483057684, 0.06402183252701896, 0.7362882322553218]\n",
      "CPU times: user 2.08 s, sys: 68.7 ms, total: 2.15 s\n",
      "Wall time: 2.16 s\n"
     ]
    }
   ],
   "source": [
    "%%time\n",
    "truth_data = train['observed_traffic_flow'].tolist()\n",
    "pred_data = train['predicted_traffic_flow'].tolist()\n",
    "diff = (train['observed_traffic_flow'] - train['predicted_traffic_flow']).tolist()\n",
    "\n",
    "compare_flow_re = compare_flow(truth_data, pred_data)\n",
    "print(compare_flow_re)"
   ]
  },
  {
   "cell_type": "code",
   "execution_count": 42,
   "id": "promotional-musician",
   "metadata": {},
   "outputs": [],
   "source": [
    "# 0.7284138883872593, 0.0, 0.6685821060599887, 0.0, 86.95607286924562, 0.13661746806466118, 0.5548179566314907]\n",
    "# [pearsonr_c, pearsonr_p, spearmanr_c, spearmanr_p, rmsr, jsd, dice]"
   ]
  },
  {
   "cell_type": "markdown",
   "id": "a8d9ee5a-8c63-4109-b400-9d538d07e3f0",
   "metadata": {},
   "source": [
    "### deep learning model evaluation"
   ]
  },
  {
   "cell_type": "code",
   "execution_count": 54,
   "id": "45cfbb00-ac1d-41ec-9d08-fa7b3384cecd",
   "metadata": {
    "tags": []
   },
   "outputs": [
    {
     "name": "stdout",
     "output_type": "stream",
     "text": [
      "(66349, 10)\n"
     ]
    }
   ],
   "source": [
    "print(test.shape)"
   ]
  },
  {
   "cell_type": "code",
   "execution_count": 57,
   "id": "dd987214-450e-4ee7-b453-7127e69a9c49",
   "metadata": {
    "tags": []
   },
   "outputs": [
    {
     "name": "stdout",
     "output_type": "stream",
     "text": [
      "(391464, 4)\n",
      "(391464, 4)\n",
      "(53445, 4)\n",
      "(53445, 4)\n"
     ]
    },
    {
     "data": {
      "text/html": [
       "<div>\n",
       "<style scoped>\n",
       "    .dataframe tbody tr th:only-of-type {\n",
       "        vertical-align: middle;\n",
       "    }\n",
       "\n",
       "    .dataframe tbody tr th {\n",
       "        vertical-align: top;\n",
       "    }\n",
       "\n",
       "    .dataframe thead th {\n",
       "        text-align: right;\n",
       "    }\n",
       "</style>\n",
       "<table border=\"1\" class=\"dataframe\">\n",
       "  <thead>\n",
       "    <tr style=\"text-align: right;\">\n",
       "      <th></th>\n",
       "      <th>o</th>\n",
       "      <th>d</th>\n",
       "      <th>Predict_flow</th>\n",
       "      <th>Actual_flow</th>\n",
       "    </tr>\n",
       "  </thead>\n",
       "  <tbody>\n",
       "    <tr>\n",
       "      <th>0</th>\n",
       "      <td>2.0</td>\n",
       "      <td>0.0</td>\n",
       "      <td>0.376997</td>\n",
       "      <td>0.0</td>\n",
       "    </tr>\n",
       "  </tbody>\n",
       "</table>\n",
       "</div>"
      ],
      "text/plain": [
       "     o    d  Predict_flow  Actual_flow\n",
       "0  2.0  0.0      0.376997          0.0"
      ]
     },
     "execution_count": 57,
     "metadata": {},
     "output_type": "execute_result"
    }
   ],
   "source": [
    "dl_re_wea = pd.read_csv(os.path.join(os.getcwd(), 'results', 'with_weather_test.csv'))\n",
    "dl_re_nowea = pd.read_csv(os.path.join(os.getcwd(), 'results', 'without_weather_test.csv'))\n",
    "print(dl_re_wea.shape)\n",
    "print(dl_re_nowea.shape)\n",
    "\n",
    "dl_re_wea = dl_re_wea.groupby(['o', 'd']).agg('mean').reset_index()\n",
    "dl_re_nowea = dl_re_nowea.groupby(['o', 'd']).agg('mean').reset_index()\n",
    "print(dl_re_wea.shape)\n",
    "print(dl_re_nowea.shape)\n",
    "\n",
    "dl_re_wea.head(1)"
   ]
  },
  {
   "cell_type": "code",
   "execution_count": 72,
   "id": "a73ec903-b694-446c-802c-4e067753c5ab",
   "metadata": {
    "tags": []
   },
   "outputs": [
    {
     "name": "stdout",
     "output_type": "stream",
     "text": [
      "(53445, 6)\n"
     ]
    },
    {
     "data": {
      "text/html": [
       "<div>\n",
       "<style scoped>\n",
       "    .dataframe tbody tr th:only-of-type {\n",
       "        vertical-align: middle;\n",
       "    }\n",
       "\n",
       "    .dataframe tbody tr th {\n",
       "        vertical-align: top;\n",
       "    }\n",
       "\n",
       "    .dataframe thead th {\n",
       "        text-align: right;\n",
       "    }\n",
       "</style>\n",
       "<table border=\"1\" class=\"dataframe\">\n",
       "  <thead>\n",
       "    <tr style=\"text-align: right;\">\n",
       "      <th></th>\n",
       "      <th>o</th>\n",
       "      <th>d</th>\n",
       "      <th>Predict_flow_wea</th>\n",
       "      <th>Actual_flow_wea</th>\n",
       "      <th>Predict_flow_nowea</th>\n",
       "      <th>Actual_flow_nowea</th>\n",
       "    </tr>\n",
       "  </thead>\n",
       "  <tbody>\n",
       "    <tr>\n",
       "      <th>0</th>\n",
       "      <td>2</td>\n",
       "      <td>0</td>\n",
       "      <td>0.376997</td>\n",
       "      <td>0.0</td>\n",
       "      <td>0.951154</td>\n",
       "      <td>0.0</td>\n",
       "    </tr>\n",
       "    <tr>\n",
       "      <th>1</th>\n",
       "      <td>2</td>\n",
       "      <td>1</td>\n",
       "      <td>2.733390</td>\n",
       "      <td>4.0</td>\n",
       "      <td>5.410487</td>\n",
       "      <td>4.0</td>\n",
       "    </tr>\n",
       "    <tr>\n",
       "      <th>2</th>\n",
       "      <td>2</td>\n",
       "      <td>3</td>\n",
       "      <td>18.937828</td>\n",
       "      <td>19.0</td>\n",
       "      <td>9.469562</td>\n",
       "      <td>19.0</td>\n",
       "    </tr>\n",
       "    <tr>\n",
       "      <th>3</th>\n",
       "      <td>2</td>\n",
       "      <td>4</td>\n",
       "      <td>0.471508</td>\n",
       "      <td>1.0</td>\n",
       "      <td>0.999822</td>\n",
       "      <td>1.0</td>\n",
       "    </tr>\n",
       "    <tr>\n",
       "      <th>4</th>\n",
       "      <td>2</td>\n",
       "      <td>5</td>\n",
       "      <td>0.307353</td>\n",
       "      <td>0.0</td>\n",
       "      <td>0.558237</td>\n",
       "      <td>0.0</td>\n",
       "    </tr>\n",
       "  </tbody>\n",
       "</table>\n",
       "</div>"
      ],
      "text/plain": [
       "   o  d  Predict_flow_wea  Actual_flow_wea  Predict_flow_nowea  \\\n",
       "0  2  0          0.376997              0.0            0.951154   \n",
       "1  2  1          2.733390              4.0            5.410487   \n",
       "2  2  3         18.937828             19.0            9.469562   \n",
       "3  2  4          0.471508              1.0            0.999822   \n",
       "4  2  5          0.307353              0.0            0.558237   \n",
       "\n",
       "   Actual_flow_nowea  \n",
       "0                0.0  \n",
       "1                4.0  \n",
       "2               19.0  \n",
       "3                1.0  \n",
       "4                0.0  "
      ]
     },
     "execution_count": 72,
     "metadata": {},
     "output_type": "execute_result"
    }
   ],
   "source": [
    "dl_re = pd.merge(\n",
    "    left = dl_re_wea,\n",
    "    right = dl_re_nowea, \n",
    "    on = ['o', 'd'], \n",
    "    how = 'inner', \n",
    "    suffixes = ('_wea', '_nowea')\n",
    ")\n",
    "print(dl_re.shape)\n",
    "\n",
    "dl_re['o'] = dl_re['o'].astype(int)\n",
    "dl_re['d'] = dl_re['d'].astype(int)\n",
    "dl_re.head()"
   ]
  },
  {
   "cell_type": "code",
   "execution_count": 61,
   "id": "e74eafad-17b0-42f8-b8a1-000f176aa7ea",
   "metadata": {
    "tags": []
   },
   "outputs": [
    {
     "data": {
      "text/plain": [
       "geometry    geometry\n",
       "cell_id        int64\n",
       "dtype: object"
      ]
     },
     "execution_count": 61,
     "metadata": {},
     "output_type": "execute_result"
    }
   ],
   "source": [
    "grid_shp.dtypes"
   ]
  },
  {
   "cell_type": "code",
   "execution_count": 58,
   "id": "55df1a00-b1b8-4261-b48e-fab986b6e90d",
   "metadata": {
    "tags": []
   },
   "outputs": [
    {
     "name": "stdout",
     "output_type": "stream",
     "text": [
      "[0.946314196968256, 0.0, 0.7733098315209774, 0.0, 12.438559443692501, 0.0663798035879846, 0.7545328582691408]\n",
      "CPU times: user 235 ms, sys: 40.4 ms, total: 275 ms\n",
      "Wall time: 498 ms\n"
     ]
    }
   ],
   "source": [
    "%%time\n",
    "truth_data = dl_re_wea['Actual_flow'].tolist()\n",
    "pred_data = dl_re_wea['Predict_flow'].tolist()\n",
    "diff = (dl_re_wea['Actual_flow'] - dl_re_wea['Predict_flow']).tolist()\n",
    "\n",
    "compare_flow_re = compare_flow(truth_data, pred_data)\n",
    "print(compare_flow_re)"
   ]
  },
  {
   "cell_type": "code",
   "execution_count": 59,
   "id": "0b633f9f-4892-4d5f-9da1-3c5c61cb45a5",
   "metadata": {
    "tags": []
   },
   "outputs": [
    {
     "name": "stdout",
     "output_type": "stream",
     "text": [
      "[0.9327891413009042, 0.0, 0.7545665576328584, 0.0, 13.109700782558948, 0.07461404582624394, 0.7388528848046916]\n",
      "CPU times: user 242 ms, sys: 20.5 ms, total: 263 ms\n",
      "Wall time: 291 ms\n"
     ]
    }
   ],
   "source": [
    "%%time\n",
    "truth_data = dl_re_nowea['Actual_flow'].tolist()\n",
    "pred_data = dl_re_nowea['Predict_flow'].tolist()\n",
    "diff = (dl_re_nowea['Actual_flow'] - dl_re_nowea['Predict_flow']).tolist()\n",
    "\n",
    "compare_flow_re = compare_flow(truth_data, pred_data)\n",
    "print(compare_flow_re)"
   ]
  },
  {
   "cell_type": "markdown",
   "id": "minus-backup",
   "metadata": {},
   "source": [
    "### visualization"
   ]
  },
  {
   "cell_type": "code",
   "execution_count": 34,
   "id": "steady-cemetery",
   "metadata": {
    "tags": []
   },
   "outputs": [
    {
     "name": "stdout",
     "output_type": "stream",
     "text": [
      "(925, 1)\n",
      "epsg:4326\n"
     ]
    },
    {
     "data": {
      "text/html": [
       "<div>\n",
       "<style scoped>\n",
       "    .dataframe tbody tr th:only-of-type {\n",
       "        vertical-align: middle;\n",
       "    }\n",
       "\n",
       "    .dataframe tbody tr th {\n",
       "        vertical-align: top;\n",
       "    }\n",
       "\n",
       "    .dataframe thead th {\n",
       "        text-align: right;\n",
       "    }\n",
       "</style>\n",
       "<table border=\"1\" class=\"dataframe\">\n",
       "  <thead>\n",
       "    <tr style=\"text-align: right;\">\n",
       "      <th></th>\n",
       "      <th>geometry</th>\n",
       "      <th>cell_id</th>\n",
       "    </tr>\n",
       "  </thead>\n",
       "  <tbody>\n",
       "    <tr>\n",
       "      <th>0</th>\n",
       "      <td>POINT (-93.27079 44.48441)</td>\n",
       "      <td>0</td>\n",
       "    </tr>\n",
       "    <tr>\n",
       "      <th>1</th>\n",
       "      <td>POINT (-93.23306 44.48449)</td>\n",
       "      <td>1</td>\n",
       "    </tr>\n",
       "    <tr>\n",
       "      <th>2</th>\n",
       "      <td>POINT (-93.19534 44.48456)</td>\n",
       "      <td>2</td>\n",
       "    </tr>\n",
       "    <tr>\n",
       "      <th>3</th>\n",
       "      <td>POINT (-93.15761 44.48462)</td>\n",
       "      <td>3</td>\n",
       "    </tr>\n",
       "    <tr>\n",
       "      <th>4</th>\n",
       "      <td>POINT (-93.11988 44.48467)</td>\n",
       "      <td>4</td>\n",
       "    </tr>\n",
       "  </tbody>\n",
       "</table>\n",
       "</div>"
      ],
      "text/plain": [
       "                     geometry  cell_id\n",
       "0  POINT (-93.27079 44.48441)        0\n",
       "1  POINT (-93.23306 44.48449)        1\n",
       "2  POINT (-93.19534 44.48456)        2\n",
       "3  POINT (-93.15761 44.48462)        3\n",
       "4  POINT (-93.11988 44.48467)        4"
      ]
     },
     "execution_count": 34,
     "metadata": {},
     "output_type": "execute_result"
    }
   ],
   "source": [
    "grid_shp = gpd.read_file(os.path.join(os.getcwd(), 'data', 'fishnet_3km.json'))\n",
    "print(grid_shp.shape)\n",
    "\n",
    "grid_shp['geometry'] = grid_shp['geometry'].centroid\n",
    "grid_shp.to_crs('epsg:4326', inplace=True)\n",
    "\n",
    "grid_shp['cell_id'] = grid_shp.index\n",
    "print(grid_shp.crs)\n",
    "grid_shp.head()"
   ]
  },
  {
   "cell_type": "code",
   "execution_count": 39,
   "id": "7c2f95de-9f13-41a3-a1ea-e9df41be0771",
   "metadata": {
    "tags": []
   },
   "outputs": [
    {
     "data": {
      "text/html": [
       "<div>\n",
       "<style scoped>\n",
       "    .dataframe tbody tr th:only-of-type {\n",
       "        vertical-align: middle;\n",
       "    }\n",
       "\n",
       "    .dataframe tbody tr th {\n",
       "        vertical-align: top;\n",
       "    }\n",
       "\n",
       "    .dataframe thead th {\n",
       "        text-align: right;\n",
       "    }\n",
       "</style>\n",
       "<table border=\"1\" class=\"dataframe\">\n",
       "  <thead>\n",
       "    <tr style=\"text-align: right;\">\n",
       "      <th></th>\n",
       "      <th>i</th>\n",
       "      <th>j</th>\n",
       "      <th>true_traffic_flow</th>\n",
       "      <th>date</th>\n",
       "      <th>pop_i</th>\n",
       "      <th>pop_j</th>\n",
       "      <th>dist_ij</th>\n",
       "      <th>observed_traffic_flow</th>\n",
       "      <th>predicted_traffic_flow</th>\n",
       "      <th>geometry_x</th>\n",
       "      <th>geometry_y</th>\n",
       "      <th>cell_id</th>\n",
       "    </tr>\n",
       "  </thead>\n",
       "  <tbody>\n",
       "    <tr>\n",
       "      <th>0</th>\n",
       "      <td>2</td>\n",
       "      <td>3</td>\n",
       "      <td>19</td>\n",
       "      <td>20210709</td>\n",
       "      <td>82</td>\n",
       "      <td>72</td>\n",
       "      <td>3.001193</td>\n",
       "      <td>19</td>\n",
       "      <td>4.785861</td>\n",
       "      <td>LINESTRING (-93.19533650247398 44.484563312278...</td>\n",
       "      <td>POINT (-93.19534 44.48456)</td>\n",
       "      <td>2</td>\n",
       "    </tr>\n",
       "    <tr>\n",
       "      <th>1</th>\n",
       "      <td>4</td>\n",
       "      <td>3</td>\n",
       "      <td>1</td>\n",
       "      <td>20210709</td>\n",
       "      <td>7</td>\n",
       "      <td>72</td>\n",
       "      <td>3.001196</td>\n",
       "      <td>1</td>\n",
       "      <td>1.039642</td>\n",
       "      <td>LINESTRING (-93.11988289834156 44.484667216982...</td>\n",
       "      <td>POINT (-93.11988 44.48467)</td>\n",
       "      <td>4</td>\n",
       "    </tr>\n",
       "    <tr>\n",
       "      <th>2</th>\n",
       "      <td>9</td>\n",
       "      <td>3</td>\n",
       "      <td>1</td>\n",
       "      <td>20210709</td>\n",
       "      <td>7</td>\n",
       "      <td>72</td>\n",
       "      <td>4.244328</td>\n",
       "      <td>1</td>\n",
       "      <td>0.382228</td>\n",
       "      <td>LINESTRING (-93.19542663351649 44.511571213775...</td>\n",
       "      <td>POINT (-93.19543 44.51157)</td>\n",
       "      <td>9</td>\n",
       "    </tr>\n",
       "    <tr>\n",
       "      <th>3</th>\n",
       "      <td>11</td>\n",
       "      <td>3</td>\n",
       "      <td>1</td>\n",
       "      <td>20210709</td>\n",
       "      <td>2</td>\n",
       "      <td>72</td>\n",
       "      <td>4.244332</td>\n",
       "      <td>1</td>\n",
       "      <td>0.175695</td>\n",
       "      <td>LINESTRING (-93.11993821810954 44.511675247756...</td>\n",
       "      <td>POINT (-93.11994 44.51168)</td>\n",
       "      <td>11</td>\n",
       "    </tr>\n",
       "    <tr>\n",
       "      <th>4</th>\n",
       "      <td>36</td>\n",
       "      <td>3</td>\n",
       "      <td>1</td>\n",
       "      <td>20210709</td>\n",
       "      <td>29</td>\n",
       "      <td>72</td>\n",
       "      <td>6.710872</td>\n",
       "      <td>1</td>\n",
       "      <td>0.245958</td>\n",
       "      <td>LINESTRING (-93.19551680866779 44.538579003082...</td>\n",
       "      <td>POINT (-93.19552 44.53858)</td>\n",
       "      <td>36</td>\n",
       "    </tr>\n",
       "  </tbody>\n",
       "</table>\n",
       "</div>"
      ],
      "text/plain": [
       "    i  j  true_traffic_flow      date  pop_i  pop_j   dist_ij  \\\n",
       "0   2  3                 19  20210709     82     72  3.001193   \n",
       "1   4  3                  1  20210709      7     72  3.001196   \n",
       "2   9  3                  1  20210709      7     72  4.244328   \n",
       "3  11  3                  1  20210709      2     72  4.244332   \n",
       "4  36  3                  1  20210709     29     72  6.710872   \n",
       "\n",
       "   observed_traffic_flow  predicted_traffic_flow  \\\n",
       "0                     19                4.785861   \n",
       "1                      1                1.039642   \n",
       "2                      1                0.382228   \n",
       "3                      1                0.175695   \n",
       "4                      1                0.245958   \n",
       "\n",
       "                                          geometry_x  \\\n",
       "0  LINESTRING (-93.19533650247398 44.484563312278...   \n",
       "1  LINESTRING (-93.11988289834156 44.484667216982...   \n",
       "2  LINESTRING (-93.19542663351649 44.511571213775...   \n",
       "3  LINESTRING (-93.11993821810954 44.511675247756...   \n",
       "4  LINESTRING (-93.19551680866779 44.538579003082...   \n",
       "\n",
       "                   geometry_y  cell_id  \n",
       "0  POINT (-93.19534 44.48456)        2  \n",
       "1  POINT (-93.11988 44.48467)        4  \n",
       "2  POINT (-93.19543 44.51157)        9  \n",
       "3  POINT (-93.11994 44.51168)       11  \n",
       "4  POINT (-93.19552 44.53858)       36  "
      ]
     },
     "execution_count": 39,
     "metadata": {},
     "output_type": "execute_result"
    }
   ],
   "source": [
    "gdf_start.head()"
   ]
  },
  {
   "cell_type": "code",
   "execution_count": 73,
   "id": "1992d772-8eb1-4514-baab-6eb07b322a7d",
   "metadata": {
    "tags": []
   },
   "outputs": [
    {
     "name": "stdout",
     "output_type": "stream",
     "text": [
      "(53445, 6)\n",
      "(53445, 8)\n",
      "(53445, 8)\n",
      "(53445, 7)\n",
      "CPU times: user 653 ms, sys: 13.7 ms, total: 666 ms\n",
      "Wall time: 675 ms\n"
     ]
    },
    {
     "data": {
      "text/html": [
       "<div>\n",
       "<style scoped>\n",
       "    .dataframe tbody tr th:only-of-type {\n",
       "        vertical-align: middle;\n",
       "    }\n",
       "\n",
       "    .dataframe tbody tr th {\n",
       "        vertical-align: top;\n",
       "    }\n",
       "\n",
       "    .dataframe thead th {\n",
       "        text-align: right;\n",
       "    }\n",
       "</style>\n",
       "<table border=\"1\" class=\"dataframe\">\n",
       "  <thead>\n",
       "    <tr style=\"text-align: right;\">\n",
       "      <th></th>\n",
       "      <th>o</th>\n",
       "      <th>d</th>\n",
       "      <th>Predict_flow_wea</th>\n",
       "      <th>Actual_flow_wea</th>\n",
       "      <th>Predict_flow_nowea</th>\n",
       "      <th>Actual_flow_nowea</th>\n",
       "      <th>geometry</th>\n",
       "    </tr>\n",
       "  </thead>\n",
       "  <tbody>\n",
       "    <tr>\n",
       "      <th>0</th>\n",
       "      <td>2</td>\n",
       "      <td>0</td>\n",
       "      <td>0.376997</td>\n",
       "      <td>0.0</td>\n",
       "      <td>0.951154</td>\n",
       "      <td>0.0</td>\n",
       "      <td>LINESTRING (-93.19534 44.48456, -93.27079 44.4...</td>\n",
       "    </tr>\n",
       "    <tr>\n",
       "      <th>1</th>\n",
       "      <td>2</td>\n",
       "      <td>1</td>\n",
       "      <td>2.733390</td>\n",
       "      <td>4.0</td>\n",
       "      <td>5.410487</td>\n",
       "      <td>4.0</td>\n",
       "      <td>LINESTRING (-93.19534 44.48456, -93.23306 44.4...</td>\n",
       "    </tr>\n",
       "    <tr>\n",
       "      <th>2</th>\n",
       "      <td>2</td>\n",
       "      <td>3</td>\n",
       "      <td>18.937828</td>\n",
       "      <td>19.0</td>\n",
       "      <td>9.469562</td>\n",
       "      <td>19.0</td>\n",
       "      <td>LINESTRING (-93.19534 44.48456, -93.15761 44.4...</td>\n",
       "    </tr>\n",
       "    <tr>\n",
       "      <th>3</th>\n",
       "      <td>2</td>\n",
       "      <td>4</td>\n",
       "      <td>0.471508</td>\n",
       "      <td>1.0</td>\n",
       "      <td>0.999822</td>\n",
       "      <td>1.0</td>\n",
       "      <td>LINESTRING (-93.19534 44.48456, -93.11988 44.4...</td>\n",
       "    </tr>\n",
       "    <tr>\n",
       "      <th>4</th>\n",
       "      <td>2</td>\n",
       "      <td>5</td>\n",
       "      <td>0.307353</td>\n",
       "      <td>0.0</td>\n",
       "      <td>0.558237</td>\n",
       "      <td>0.0</td>\n",
       "      <td>LINESTRING (-93.19534 44.48456, -93.08216 44.4...</td>\n",
       "    </tr>\n",
       "  </tbody>\n",
       "</table>\n",
       "</div>"
      ],
      "text/plain": [
       "   o  d  Predict_flow_wea  Actual_flow_wea  Predict_flow_nowea  \\\n",
       "0  2  0          0.376997              0.0            0.951154   \n",
       "1  2  1          2.733390              4.0            5.410487   \n",
       "2  2  3         18.937828             19.0            9.469562   \n",
       "3  2  4          0.471508              1.0            0.999822   \n",
       "4  2  5          0.307353              0.0            0.558237   \n",
       "\n",
       "   Actual_flow_nowea                                           geometry  \n",
       "0                0.0  LINESTRING (-93.19534 44.48456, -93.27079 44.4...  \n",
       "1                4.0  LINESTRING (-93.19534 44.48456, -93.23306 44.4...  \n",
       "2               19.0  LINESTRING (-93.19534 44.48456, -93.15761 44.4...  \n",
       "3                1.0  LINESTRING (-93.19534 44.48456, -93.11988 44.4...  \n",
       "4                0.0  LINESTRING (-93.19534 44.48456, -93.08216 44.4...  "
      ]
     },
     "execution_count": 73,
     "metadata": {},
     "output_type": "execute_result"
    }
   ],
   "source": [
    "%%time\n",
    "print(dl_re.shape)\n",
    "gdf_start = pd.merge(\n",
    "    left = dl_re, \n",
    "    right = grid_shp, \n",
    "    how = 'left', \n",
    "    left_on = 'o', \n",
    "    right_on = 'cell_id'\n",
    ")\n",
    "print(gdf_start.shape)\n",
    "\n",
    "gdf_end = pd.merge(\n",
    "    left = dl_re, \n",
    "    right = grid_shp, \n",
    "    how = 'left', \n",
    "    left_on = 'd', \n",
    "    right_on = 'cell_id'\n",
    ")\n",
    "print(gdf_end.shape)\n",
    "\n",
    "dl_re['geometry'] = [LineString([start, end]) for start, end in zip(gdf_start['geometry'], gdf_end['geometry'])]\n",
    "flow_gdf = gpd.GeoDataFrame(dl_re, geometry=dl_re['geometry'], crs=\"EPSG:4326\")\n",
    "print(flow_gdf.shape)\n",
    "flow_gdf.head()"
   ]
  },
  {
   "cell_type": "code",
   "execution_count": 42,
   "id": "cosmetic-tobacco",
   "metadata": {
    "tags": []
   },
   "outputs": [
    {
     "name": "stdout",
     "output_type": "stream",
     "text": [
      "(66349, 11)\n",
      "(66349, 11)\n",
      "(66349, 10)\n",
      "CPU times: user 810 ms, sys: 18.2 ms, total: 828 ms\n",
      "Wall time: 860 ms\n"
     ]
    },
    {
     "data": {
      "text/html": [
       "<div>\n",
       "<style scoped>\n",
       "    .dataframe tbody tr th:only-of-type {\n",
       "        vertical-align: middle;\n",
       "    }\n",
       "\n",
       "    .dataframe tbody tr th {\n",
       "        vertical-align: top;\n",
       "    }\n",
       "\n",
       "    .dataframe thead th {\n",
       "        text-align: right;\n",
       "    }\n",
       "</style>\n",
       "<table border=\"1\" class=\"dataframe\">\n",
       "  <thead>\n",
       "    <tr style=\"text-align: right;\">\n",
       "      <th></th>\n",
       "      <th>i</th>\n",
       "      <th>j</th>\n",
       "      <th>true_traffic_flow</th>\n",
       "      <th>date</th>\n",
       "      <th>pop_i</th>\n",
       "      <th>pop_j</th>\n",
       "      <th>dist_ij</th>\n",
       "      <th>observed_traffic_flow</th>\n",
       "      <th>predicted_traffic_flow</th>\n",
       "      <th>geometry</th>\n",
       "    </tr>\n",
       "  </thead>\n",
       "  <tbody>\n",
       "    <tr>\n",
       "      <th>14</th>\n",
       "      <td>2</td>\n",
       "      <td>3</td>\n",
       "      <td>19</td>\n",
       "      <td>20210709</td>\n",
       "      <td>82</td>\n",
       "      <td>72</td>\n",
       "      <td>3.001193</td>\n",
       "      <td>19</td>\n",
       "      <td>4.785861</td>\n",
       "      <td>LINESTRING (-93.19534 44.48456, -93.15761 44.4...</td>\n",
       "    </tr>\n",
       "    <tr>\n",
       "      <th>23</th>\n",
       "      <td>4</td>\n",
       "      <td>3</td>\n",
       "      <td>1</td>\n",
       "      <td>20210709</td>\n",
       "      <td>7</td>\n",
       "      <td>72</td>\n",
       "      <td>3.001196</td>\n",
       "      <td>1</td>\n",
       "      <td>1.039642</td>\n",
       "      <td>LINESTRING (-93.11988 44.48467, -93.15761 44.4...</td>\n",
       "    </tr>\n",
       "    <tr>\n",
       "      <th>31</th>\n",
       "      <td>9</td>\n",
       "      <td>3</td>\n",
       "      <td>1</td>\n",
       "      <td>20210709</td>\n",
       "      <td>7</td>\n",
       "      <td>72</td>\n",
       "      <td>4.244328</td>\n",
       "      <td>1</td>\n",
       "      <td>0.382228</td>\n",
       "      <td>LINESTRING (-93.19543 44.51157, -93.15761 44.4...</td>\n",
       "    </tr>\n",
       "    <tr>\n",
       "      <th>33</th>\n",
       "      <td>11</td>\n",
       "      <td>3</td>\n",
       "      <td>1</td>\n",
       "      <td>20210709</td>\n",
       "      <td>2</td>\n",
       "      <td>72</td>\n",
       "      <td>4.244332</td>\n",
       "      <td>1</td>\n",
       "      <td>0.175695</td>\n",
       "      <td>LINESTRING (-93.11994 44.51168, -93.15761 44.4...</td>\n",
       "    </tr>\n",
       "    <tr>\n",
       "      <th>39</th>\n",
       "      <td>36</td>\n",
       "      <td>3</td>\n",
       "      <td>1</td>\n",
       "      <td>20210709</td>\n",
       "      <td>29</td>\n",
       "      <td>72</td>\n",
       "      <td>6.710872</td>\n",
       "      <td>1</td>\n",
       "      <td>0.245958</td>\n",
       "      <td>LINESTRING (-93.19552 44.53858, -93.15761 44.4...</td>\n",
       "    </tr>\n",
       "  </tbody>\n",
       "</table>\n",
       "</div>"
      ],
      "text/plain": [
       "     i  j  true_traffic_flow      date  pop_i  pop_j   dist_ij  \\\n",
       "14   2  3                 19  20210709     82     72  3.001193   \n",
       "23   4  3                  1  20210709      7     72  3.001196   \n",
       "31   9  3                  1  20210709      7     72  4.244328   \n",
       "33  11  3                  1  20210709      2     72  4.244332   \n",
       "39  36  3                  1  20210709     29     72  6.710872   \n",
       "\n",
       "    observed_traffic_flow  predicted_traffic_flow  \\\n",
       "14                     19                4.785861   \n",
       "23                      1                1.039642   \n",
       "31                      1                0.382228   \n",
       "33                      1                0.175695   \n",
       "39                      1                0.245958   \n",
       "\n",
       "                                             geometry  \n",
       "14  LINESTRING (-93.19534 44.48456, -93.15761 44.4...  \n",
       "23  LINESTRING (-93.11988 44.48467, -93.15761 44.4...  \n",
       "31  LINESTRING (-93.19543 44.51157, -93.15761 44.4...  \n",
       "33  LINESTRING (-93.11994 44.51168, -93.15761 44.4...  \n",
       "39  LINESTRING (-93.19552 44.53858, -93.15761 44.4...  "
      ]
     },
     "execution_count": 42,
     "metadata": {},
     "output_type": "execute_result"
    }
   ],
   "source": [
    "%%time\n",
    "gdf_start = pd.merge(\n",
    "    left = test, \n",
    "    right = grid_shp, \n",
    "    how = 'left', \n",
    "    left_on = 'i', \n",
    "    right_on = 'cell_id'\n",
    ")\n",
    "print(gdf_start.shape)\n",
    "\n",
    "gdf_end = pd.merge(\n",
    "    left = test, \n",
    "    right = grid_shp, \n",
    "    how = 'left', \n",
    "    left_on = 'j', \n",
    "    right_on = 'cell_id'\n",
    ")\n",
    "print(gdf_end.shape)\n",
    "\n",
    "test['geometry'] = [LineString([start, end]) for start, end in zip(gdf_start['geometry'], gdf_end['geometry'])]\n",
    "flow_gdf = gpd.GeoDataFrame(test, geometry=test['geometry'], crs=\"EPSG:4326\")\n",
    "print(flow_gdf.shape)\n",
    "flow_gdf.head()"
   ]
  },
  {
   "cell_type": "code",
   "execution_count": 43,
   "id": "sophisticated-stupid",
   "metadata": {
    "scrolled": true,
    "tags": []
   },
   "outputs": [
    {
     "name": "stderr",
     "output_type": "stream",
     "text": [
      "<timed eval>:1: UserWarning: Column names longer than 10 characters will be truncated when saved to ESRI Shapefile.\n"
     ]
    },
    {
     "name": "stdout",
     "output_type": "stream",
     "text": [
      "CPU times: user 1.84 s, sys: 195 ms, total: 2.04 s\n",
      "Wall time: 2.16 s\n"
     ]
    }
   ],
   "source": [
    "%%time\n",
    "flow_gdf.to_file(os.path.join(os.getcwd(), 'results', 'shp', 'flow_gdf.shp'))"
   ]
  },
  {
   "cell_type": "code",
   "execution_count": 75,
   "id": "ac1173b6-e398-46aa-b293-635acfa19614",
   "metadata": {
    "tags": []
   },
   "outputs": [
    {
     "name": "stdout",
     "output_type": "stream",
     "text": [
      "CPU times: user 2.4 ms, sys: 2.38 ms, total: 4.78 ms\n",
      "Wall time: 5.1 ms\n"
     ]
    },
    {
     "data": {
      "text/html": [
       "<div>\n",
       "<style scoped>\n",
       "    .dataframe tbody tr th:only-of-type {\n",
       "        vertical-align: middle;\n",
       "    }\n",
       "\n",
       "    .dataframe tbody tr th {\n",
       "        vertical-align: top;\n",
       "    }\n",
       "\n",
       "    .dataframe thead th {\n",
       "        text-align: right;\n",
       "    }\n",
       "</style>\n",
       "<table border=\"1\" class=\"dataframe\">\n",
       "  <thead>\n",
       "    <tr style=\"text-align: right;\">\n",
       "      <th></th>\n",
       "      <th>o</th>\n",
       "      <th>d</th>\n",
       "      <th>Predict_flow_wea</th>\n",
       "      <th>Actual_flow_wea</th>\n",
       "      <th>Predict_flow_nowea</th>\n",
       "      <th>Actual_flow_nowea</th>\n",
       "      <th>geometry</th>\n",
       "    </tr>\n",
       "  </thead>\n",
       "  <tbody>\n",
       "    <tr>\n",
       "      <th>0</th>\n",
       "      <td>2</td>\n",
       "      <td>0</td>\n",
       "      <td>0.376997</td>\n",
       "      <td>0.0</td>\n",
       "      <td>0.951154</td>\n",
       "      <td>0.0</td>\n",
       "      <td>LINESTRING (-93.19534 44.48456, -93.27079 44.4...</td>\n",
       "    </tr>\n",
       "    <tr>\n",
       "      <th>1</th>\n",
       "      <td>2</td>\n",
       "      <td>1</td>\n",
       "      <td>2.733390</td>\n",
       "      <td>4.0</td>\n",
       "      <td>5.410487</td>\n",
       "      <td>4.0</td>\n",
       "      <td>LINESTRING (-93.19534 44.48456, -93.23306 44.4...</td>\n",
       "    </tr>\n",
       "    <tr>\n",
       "      <th>2</th>\n",
       "      <td>2</td>\n",
       "      <td>3</td>\n",
       "      <td>18.937828</td>\n",
       "      <td>19.0</td>\n",
       "      <td>9.469562</td>\n",
       "      <td>19.0</td>\n",
       "      <td>LINESTRING (-93.19534 44.48456, -93.15761 44.4...</td>\n",
       "    </tr>\n",
       "    <tr>\n",
       "      <th>3</th>\n",
       "      <td>2</td>\n",
       "      <td>4</td>\n",
       "      <td>0.471508</td>\n",
       "      <td>1.0</td>\n",
       "      <td>0.999822</td>\n",
       "      <td>1.0</td>\n",
       "      <td>LINESTRING (-93.19534 44.48456, -93.11988 44.4...</td>\n",
       "    </tr>\n",
       "    <tr>\n",
       "      <th>4</th>\n",
       "      <td>2</td>\n",
       "      <td>5</td>\n",
       "      <td>0.307353</td>\n",
       "      <td>0.0</td>\n",
       "      <td>0.558237</td>\n",
       "      <td>0.0</td>\n",
       "      <td>LINESTRING (-93.19534 44.48456, -93.08216 44.4...</td>\n",
       "    </tr>\n",
       "  </tbody>\n",
       "</table>\n",
       "</div>"
      ],
      "text/plain": [
       "   o  d  Predict_flow_wea  Actual_flow_wea  Predict_flow_nowea  \\\n",
       "0  2  0          0.376997              0.0            0.951154   \n",
       "1  2  1          2.733390              4.0            5.410487   \n",
       "2  2  3         18.937828             19.0            9.469562   \n",
       "3  2  4          0.471508              1.0            0.999822   \n",
       "4  2  5          0.307353              0.0            0.558237   \n",
       "\n",
       "   Actual_flow_nowea                                           geometry  \n",
       "0                0.0  LINESTRING (-93.19534 44.48456, -93.27079 44.4...  \n",
       "1                4.0  LINESTRING (-93.19534 44.48456, -93.23306 44.4...  \n",
       "2               19.0  LINESTRING (-93.19534 44.48456, -93.15761 44.4...  \n",
       "3                1.0  LINESTRING (-93.19534 44.48456, -93.11988 44.4...  \n",
       "4                0.0  LINESTRING (-93.19534 44.48456, -93.08216 44.4...  "
      ]
     },
     "execution_count": 75,
     "metadata": {},
     "output_type": "execute_result"
    }
   ],
   "source": [
    "%%time\n",
    "# flow_gdf = gpd.read_file(os.path.join(os.getcwd(), 'results', 'shp', 'flow_gdf.shp'))\n",
    "flow_gdf.head()"
   ]
  },
  {
   "cell_type": "code",
   "execution_count": 86,
   "id": "94b3c178-70f6-4310-98f4-727211c36d97",
   "metadata": {
    "tags": []
   },
   "outputs": [
    {
     "name": "stdout",
     "output_type": "stream",
     "text": [
      "User Guide: https://docs.kepler.gl/docs/keplergl-jupyter\n",
      "CPU times: user 384 ms, sys: 39.4 ms, total: 423 ms\n",
      "Wall time: 438 ms\n"
     ]
    }
   ],
   "source": [
    "%%time\n",
    "map_compare = KeplerGl(height=600, config = {\n",
    "    'version': 'v1',\n",
    "    'config': {\n",
    "        'mapState': {\n",
    "            'latitude': 44.9375,\n",
    "            'longitude': -93.2010,\n",
    "            'zoom': 7.5\n",
    "        }\n",
    "    }\n",
    "})\n",
    "\n",
    "map_compare.add_data(data=flow_gdf.query('Actual_flow_wea>1'), name='wea')\n",
    "map_compare.add_data(data=flow_gdf.query('Actual_flow_wea>1'), name='nowea')\n",
    "\n",
    "map_compare.config = {\n",
    "    'version': 'v1',\n",
    "    'config': {\n",
    "        'mapState': {\n",
    "            'latitude': 44.9375,\n",
    "            'longitude': -93.2010,\n",
    "            'zoom': 7.5\n",
    "        }\n",
    "    }\n",
    "}"
   ]
  },
  {
   "cell_type": "code",
   "execution_count": 74,
   "id": "3e374346-1d46-47ca-87de-2c0f2bfe2660",
   "metadata": {
    "collapsed": true,
    "jupyter": {
     "outputs_hidden": true
    },
    "tags": []
   },
   "outputs": [
    {
     "name": "stdout",
     "output_type": "stream",
     "text": [
      "User Guide: https://docs.kepler.gl/docs/keplergl-jupyter\n"
     ]
    },
    {
     "ename": "UndefinedVariableError",
     "evalue": "name 'observed_t' is not defined",
     "output_type": "error",
     "traceback": [
      "\u001b[0;31m---------------------------------------------------------------------------\u001b[0m",
      "\u001b[0;31mKeyError\u001b[0m                                  Traceback (most recent call last)",
      "File \u001b[0;32m~/miniconda3/lib/python3.11/site-packages/pandas/core/computation/scope.py:231\u001b[0m, in \u001b[0;36mScope.resolve\u001b[0;34m(self, key, is_local)\u001b[0m\n\u001b[1;32m    230\u001b[0m \u001b[38;5;28;01mif\u001b[39;00m \u001b[38;5;28mself\u001b[39m\u001b[38;5;241m.\u001b[39mhas_resolvers:\n\u001b[0;32m--> 231\u001b[0m     \u001b[38;5;28;01mreturn\u001b[39;00m \u001b[38;5;28mself\u001b[39m\u001b[38;5;241m.\u001b[39mresolvers[key]\n\u001b[1;32m    233\u001b[0m \u001b[38;5;66;03m# if we're here that means that we have no locals and we also have\u001b[39;00m\n\u001b[1;32m    234\u001b[0m \u001b[38;5;66;03m# no resolvers\u001b[39;00m\n",
      "File \u001b[0;32m~/miniconda3/lib/python3.11/collections/__init__.py:1006\u001b[0m, in \u001b[0;36mChainMap.__getitem__\u001b[0;34m(self, key)\u001b[0m\n\u001b[1;32m   1005\u001b[0m         \u001b[38;5;28;01mpass\u001b[39;00m\n\u001b[0;32m-> 1006\u001b[0m \u001b[38;5;28;01mreturn\u001b[39;00m \u001b[38;5;28mself\u001b[39m\u001b[38;5;241m.\u001b[39m\u001b[38;5;21m__missing__\u001b[39m(key)\n",
      "File \u001b[0;32m~/miniconda3/lib/python3.11/collections/__init__.py:998\u001b[0m, in \u001b[0;36mChainMap.__missing__\u001b[0;34m(self, key)\u001b[0m\n\u001b[1;32m    997\u001b[0m \u001b[38;5;28;01mdef\u001b[39;00m \u001b[38;5;21m__missing__\u001b[39m(\u001b[38;5;28mself\u001b[39m, key):\n\u001b[0;32m--> 998\u001b[0m     \u001b[38;5;28;01mraise\u001b[39;00m \u001b[38;5;167;01mKeyError\u001b[39;00m(key)\n",
      "\u001b[0;31mKeyError\u001b[0m: 'observed_t'",
      "\nDuring handling of the above exception, another exception occurred:\n",
      "\u001b[0;31mKeyError\u001b[0m                                  Traceback (most recent call last)",
      "File \u001b[0;32m~/miniconda3/lib/python3.11/site-packages/pandas/core/computation/scope.py:242\u001b[0m, in \u001b[0;36mScope.resolve\u001b[0;34m(self, key, is_local)\u001b[0m\n\u001b[1;32m    238\u001b[0m \u001b[38;5;28;01mtry\u001b[39;00m:\n\u001b[1;32m    239\u001b[0m     \u001b[38;5;66;03m# last ditch effort we look in temporaries\u001b[39;00m\n\u001b[1;32m    240\u001b[0m     \u001b[38;5;66;03m# these are created when parsing indexing expressions\u001b[39;00m\n\u001b[1;32m    241\u001b[0m     \u001b[38;5;66;03m# e.g., df[df > 0]\u001b[39;00m\n\u001b[0;32m--> 242\u001b[0m     \u001b[38;5;28;01mreturn\u001b[39;00m \u001b[38;5;28mself\u001b[39m\u001b[38;5;241m.\u001b[39mtemps[key]\n\u001b[1;32m    243\u001b[0m \u001b[38;5;28;01mexcept\u001b[39;00m \u001b[38;5;167;01mKeyError\u001b[39;00m \u001b[38;5;28;01mas\u001b[39;00m err:\n",
      "\u001b[0;31mKeyError\u001b[0m: 'observed_t'",
      "\nThe above exception was the direct cause of the following exception:\n",
      "\u001b[0;31mUndefinedVariableError\u001b[0m                    Traceback (most recent call last)",
      "File \u001b[0;32m<timed exec>:12\u001b[0m\n",
      "File \u001b[0;32m~/miniconda3/lib/python3.11/site-packages/pandas/core/frame.py:4602\u001b[0m, in \u001b[0;36mDataFrame.query\u001b[0;34m(self, expr, inplace, **kwargs)\u001b[0m\n\u001b[1;32m   4600\u001b[0m kwargs[\u001b[38;5;124m\"\u001b[39m\u001b[38;5;124mlevel\u001b[39m\u001b[38;5;124m\"\u001b[39m] \u001b[38;5;241m=\u001b[39m kwargs\u001b[38;5;241m.\u001b[39mpop(\u001b[38;5;124m\"\u001b[39m\u001b[38;5;124mlevel\u001b[39m\u001b[38;5;124m\"\u001b[39m, \u001b[38;5;241m0\u001b[39m) \u001b[38;5;241m+\u001b[39m \u001b[38;5;241m1\u001b[39m\n\u001b[1;32m   4601\u001b[0m kwargs[\u001b[38;5;124m\"\u001b[39m\u001b[38;5;124mtarget\u001b[39m\u001b[38;5;124m\"\u001b[39m] \u001b[38;5;241m=\u001b[39m \u001b[38;5;28;01mNone\u001b[39;00m\n\u001b[0;32m-> 4602\u001b[0m res \u001b[38;5;241m=\u001b[39m \u001b[38;5;28mself\u001b[39m\u001b[38;5;241m.\u001b[39meval(expr, \u001b[38;5;241m*\u001b[39m\u001b[38;5;241m*\u001b[39mkwargs)\n\u001b[1;32m   4604\u001b[0m \u001b[38;5;28;01mtry\u001b[39;00m:\n\u001b[1;32m   4605\u001b[0m     result \u001b[38;5;241m=\u001b[39m \u001b[38;5;28mself\u001b[39m\u001b[38;5;241m.\u001b[39mloc[res]\n",
      "File \u001b[0;32m~/miniconda3/lib/python3.11/site-packages/pandas/core/frame.py:4728\u001b[0m, in \u001b[0;36mDataFrame.eval\u001b[0;34m(self, expr, inplace, **kwargs)\u001b[0m\n\u001b[1;32m   4725\u001b[0m     kwargs[\u001b[38;5;124m\"\u001b[39m\u001b[38;5;124mtarget\u001b[39m\u001b[38;5;124m\"\u001b[39m] \u001b[38;5;241m=\u001b[39m \u001b[38;5;28mself\u001b[39m\n\u001b[1;32m   4726\u001b[0m kwargs[\u001b[38;5;124m\"\u001b[39m\u001b[38;5;124mresolvers\u001b[39m\u001b[38;5;124m\"\u001b[39m] \u001b[38;5;241m=\u001b[39m \u001b[38;5;28mtuple\u001b[39m(kwargs\u001b[38;5;241m.\u001b[39mget(\u001b[38;5;124m\"\u001b[39m\u001b[38;5;124mresolvers\u001b[39m\u001b[38;5;124m\"\u001b[39m, ())) \u001b[38;5;241m+\u001b[39m resolvers\n\u001b[0;32m-> 4728\u001b[0m \u001b[38;5;28;01mreturn\u001b[39;00m _eval(expr, inplace\u001b[38;5;241m=\u001b[39minplace, \u001b[38;5;241m*\u001b[39m\u001b[38;5;241m*\u001b[39mkwargs)\n",
      "File \u001b[0;32m~/miniconda3/lib/python3.11/site-packages/pandas/core/computation/eval.py:336\u001b[0m, in \u001b[0;36meval\u001b[0;34m(expr, parser, engine, local_dict, global_dict, resolvers, level, target, inplace)\u001b[0m\n\u001b[1;32m    327\u001b[0m \u001b[38;5;66;03m# get our (possibly passed-in) scope\u001b[39;00m\n\u001b[1;32m    328\u001b[0m env \u001b[38;5;241m=\u001b[39m ensure_scope(\n\u001b[1;32m    329\u001b[0m     level \u001b[38;5;241m+\u001b[39m \u001b[38;5;241m1\u001b[39m,\n\u001b[1;32m    330\u001b[0m     global_dict\u001b[38;5;241m=\u001b[39mglobal_dict,\n\u001b[0;32m   (...)\u001b[0m\n\u001b[1;32m    333\u001b[0m     target\u001b[38;5;241m=\u001b[39mtarget,\n\u001b[1;32m    334\u001b[0m )\n\u001b[0;32m--> 336\u001b[0m parsed_expr \u001b[38;5;241m=\u001b[39m Expr(expr, engine\u001b[38;5;241m=\u001b[39mengine, parser\u001b[38;5;241m=\u001b[39mparser, env\u001b[38;5;241m=\u001b[39menv)\n\u001b[1;32m    338\u001b[0m \u001b[38;5;28;01mif\u001b[39;00m engine \u001b[38;5;241m==\u001b[39m \u001b[38;5;124m\"\u001b[39m\u001b[38;5;124mnumexpr\u001b[39m\u001b[38;5;124m\"\u001b[39m \u001b[38;5;129;01mand\u001b[39;00m (\n\u001b[1;32m    339\u001b[0m     is_extension_array_dtype(parsed_expr\u001b[38;5;241m.\u001b[39mterms\u001b[38;5;241m.\u001b[39mreturn_type)\n\u001b[1;32m    340\u001b[0m     \u001b[38;5;129;01mor\u001b[39;00m \u001b[38;5;28mgetattr\u001b[39m(parsed_expr\u001b[38;5;241m.\u001b[39mterms, \u001b[38;5;124m\"\u001b[39m\u001b[38;5;124moperand_types\u001b[39m\u001b[38;5;124m\"\u001b[39m, \u001b[38;5;28;01mNone\u001b[39;00m) \u001b[38;5;129;01mis\u001b[39;00m \u001b[38;5;129;01mnot\u001b[39;00m \u001b[38;5;28;01mNone\u001b[39;00m\n\u001b[0;32m   (...)\u001b[0m\n\u001b[1;32m    344\u001b[0m     )\n\u001b[1;32m    345\u001b[0m ):\n\u001b[1;32m    346\u001b[0m     warnings\u001b[38;5;241m.\u001b[39mwarn(\n\u001b[1;32m    347\u001b[0m         \u001b[38;5;124m\"\u001b[39m\u001b[38;5;124mEngine has switched to \u001b[39m\u001b[38;5;124m'\u001b[39m\u001b[38;5;124mpython\u001b[39m\u001b[38;5;124m'\u001b[39m\u001b[38;5;124m because numexpr does not support \u001b[39m\u001b[38;5;124m\"\u001b[39m\n\u001b[1;32m    348\u001b[0m         \u001b[38;5;124m\"\u001b[39m\u001b[38;5;124mextension array dtypes. Please set your engine to python manually.\u001b[39m\u001b[38;5;124m\"\u001b[39m,\n\u001b[1;32m    349\u001b[0m         \u001b[38;5;167;01mRuntimeWarning\u001b[39;00m,\n\u001b[1;32m    350\u001b[0m         stacklevel\u001b[38;5;241m=\u001b[39mfind_stack_level(),\n\u001b[1;32m    351\u001b[0m     )\n",
      "File \u001b[0;32m~/miniconda3/lib/python3.11/site-packages/pandas/core/computation/expr.py:808\u001b[0m, in \u001b[0;36mExpr.__init__\u001b[0;34m(self, expr, engine, parser, env, level)\u001b[0m\n\u001b[1;32m    806\u001b[0m \u001b[38;5;28mself\u001b[39m\u001b[38;5;241m.\u001b[39mparser \u001b[38;5;241m=\u001b[39m parser\n\u001b[1;32m    807\u001b[0m \u001b[38;5;28mself\u001b[39m\u001b[38;5;241m.\u001b[39m_visitor \u001b[38;5;241m=\u001b[39m PARSERS[parser](\u001b[38;5;28mself\u001b[39m\u001b[38;5;241m.\u001b[39menv, \u001b[38;5;28mself\u001b[39m\u001b[38;5;241m.\u001b[39mengine, \u001b[38;5;28mself\u001b[39m\u001b[38;5;241m.\u001b[39mparser)\n\u001b[0;32m--> 808\u001b[0m \u001b[38;5;28mself\u001b[39m\u001b[38;5;241m.\u001b[39mterms \u001b[38;5;241m=\u001b[39m \u001b[38;5;28mself\u001b[39m\u001b[38;5;241m.\u001b[39mparse()\n",
      "File \u001b[0;32m~/miniconda3/lib/python3.11/site-packages/pandas/core/computation/expr.py:827\u001b[0m, in \u001b[0;36mExpr.parse\u001b[0;34m(self)\u001b[0m\n\u001b[1;32m    823\u001b[0m \u001b[38;5;28;01mdef\u001b[39;00m \u001b[38;5;21mparse\u001b[39m(\u001b[38;5;28mself\u001b[39m):\n\u001b[1;32m    824\u001b[0m \u001b[38;5;250m    \u001b[39m\u001b[38;5;124;03m\"\"\"\u001b[39;00m\n\u001b[1;32m    825\u001b[0m \u001b[38;5;124;03m    Parse an expression.\u001b[39;00m\n\u001b[1;32m    826\u001b[0m \u001b[38;5;124;03m    \"\"\"\u001b[39;00m\n\u001b[0;32m--> 827\u001b[0m     \u001b[38;5;28;01mreturn\u001b[39;00m \u001b[38;5;28mself\u001b[39m\u001b[38;5;241m.\u001b[39m_visitor\u001b[38;5;241m.\u001b[39mvisit(\u001b[38;5;28mself\u001b[39m\u001b[38;5;241m.\u001b[39mexpr)\n",
      "File \u001b[0;32m~/miniconda3/lib/python3.11/site-packages/pandas/core/computation/expr.py:411\u001b[0m, in \u001b[0;36mBaseExprVisitor.visit\u001b[0;34m(self, node, **kwargs)\u001b[0m\n\u001b[1;32m    409\u001b[0m method \u001b[38;5;241m=\u001b[39m \u001b[38;5;124mf\u001b[39m\u001b[38;5;124m\"\u001b[39m\u001b[38;5;124mvisit_\u001b[39m\u001b[38;5;132;01m{\u001b[39;00m\u001b[38;5;28mtype\u001b[39m(node)\u001b[38;5;241m.\u001b[39m\u001b[38;5;18m__name__\u001b[39m\u001b[38;5;132;01m}\u001b[39;00m\u001b[38;5;124m\"\u001b[39m\n\u001b[1;32m    410\u001b[0m visitor \u001b[38;5;241m=\u001b[39m \u001b[38;5;28mgetattr\u001b[39m(\u001b[38;5;28mself\u001b[39m, method)\n\u001b[0;32m--> 411\u001b[0m \u001b[38;5;28;01mreturn\u001b[39;00m visitor(node, \u001b[38;5;241m*\u001b[39m\u001b[38;5;241m*\u001b[39mkwargs)\n",
      "File \u001b[0;32m~/miniconda3/lib/python3.11/site-packages/pandas/core/computation/expr.py:417\u001b[0m, in \u001b[0;36mBaseExprVisitor.visit_Module\u001b[0;34m(self, node, **kwargs)\u001b[0m\n\u001b[1;32m    415\u001b[0m     \u001b[38;5;28;01mraise\u001b[39;00m \u001b[38;5;167;01mSyntaxError\u001b[39;00m(\u001b[38;5;124m\"\u001b[39m\u001b[38;5;124monly a single expression is allowed\u001b[39m\u001b[38;5;124m\"\u001b[39m)\n\u001b[1;32m    416\u001b[0m expr \u001b[38;5;241m=\u001b[39m node\u001b[38;5;241m.\u001b[39mbody[\u001b[38;5;241m0\u001b[39m]\n\u001b[0;32m--> 417\u001b[0m \u001b[38;5;28;01mreturn\u001b[39;00m \u001b[38;5;28mself\u001b[39m\u001b[38;5;241m.\u001b[39mvisit(expr, \u001b[38;5;241m*\u001b[39m\u001b[38;5;241m*\u001b[39mkwargs)\n",
      "File \u001b[0;32m~/miniconda3/lib/python3.11/site-packages/pandas/core/computation/expr.py:411\u001b[0m, in \u001b[0;36mBaseExprVisitor.visit\u001b[0;34m(self, node, **kwargs)\u001b[0m\n\u001b[1;32m    409\u001b[0m method \u001b[38;5;241m=\u001b[39m \u001b[38;5;124mf\u001b[39m\u001b[38;5;124m\"\u001b[39m\u001b[38;5;124mvisit_\u001b[39m\u001b[38;5;132;01m{\u001b[39;00m\u001b[38;5;28mtype\u001b[39m(node)\u001b[38;5;241m.\u001b[39m\u001b[38;5;18m__name__\u001b[39m\u001b[38;5;132;01m}\u001b[39;00m\u001b[38;5;124m\"\u001b[39m\n\u001b[1;32m    410\u001b[0m visitor \u001b[38;5;241m=\u001b[39m \u001b[38;5;28mgetattr\u001b[39m(\u001b[38;5;28mself\u001b[39m, method)\n\u001b[0;32m--> 411\u001b[0m \u001b[38;5;28;01mreturn\u001b[39;00m visitor(node, \u001b[38;5;241m*\u001b[39m\u001b[38;5;241m*\u001b[39mkwargs)\n",
      "File \u001b[0;32m~/miniconda3/lib/python3.11/site-packages/pandas/core/computation/expr.py:420\u001b[0m, in \u001b[0;36mBaseExprVisitor.visit_Expr\u001b[0;34m(self, node, **kwargs)\u001b[0m\n\u001b[1;32m    419\u001b[0m \u001b[38;5;28;01mdef\u001b[39;00m \u001b[38;5;21mvisit_Expr\u001b[39m(\u001b[38;5;28mself\u001b[39m, node, \u001b[38;5;241m*\u001b[39m\u001b[38;5;241m*\u001b[39mkwargs):\n\u001b[0;32m--> 420\u001b[0m     \u001b[38;5;28;01mreturn\u001b[39;00m \u001b[38;5;28mself\u001b[39m\u001b[38;5;241m.\u001b[39mvisit(node\u001b[38;5;241m.\u001b[39mvalue, \u001b[38;5;241m*\u001b[39m\u001b[38;5;241m*\u001b[39mkwargs)\n",
      "File \u001b[0;32m~/miniconda3/lib/python3.11/site-packages/pandas/core/computation/expr.py:411\u001b[0m, in \u001b[0;36mBaseExprVisitor.visit\u001b[0;34m(self, node, **kwargs)\u001b[0m\n\u001b[1;32m    409\u001b[0m method \u001b[38;5;241m=\u001b[39m \u001b[38;5;124mf\u001b[39m\u001b[38;5;124m\"\u001b[39m\u001b[38;5;124mvisit_\u001b[39m\u001b[38;5;132;01m{\u001b[39;00m\u001b[38;5;28mtype\u001b[39m(node)\u001b[38;5;241m.\u001b[39m\u001b[38;5;18m__name__\u001b[39m\u001b[38;5;132;01m}\u001b[39;00m\u001b[38;5;124m\"\u001b[39m\n\u001b[1;32m    410\u001b[0m visitor \u001b[38;5;241m=\u001b[39m \u001b[38;5;28mgetattr\u001b[39m(\u001b[38;5;28mself\u001b[39m, method)\n\u001b[0;32m--> 411\u001b[0m \u001b[38;5;28;01mreturn\u001b[39;00m visitor(node, \u001b[38;5;241m*\u001b[39m\u001b[38;5;241m*\u001b[39mkwargs)\n",
      "File \u001b[0;32m~/miniconda3/lib/python3.11/site-packages/pandas/core/computation/expr.py:718\u001b[0m, in \u001b[0;36mBaseExprVisitor.visit_Compare\u001b[0;34m(self, node, **kwargs)\u001b[0m\n\u001b[1;32m    716\u001b[0m     op \u001b[38;5;241m=\u001b[39m \u001b[38;5;28mself\u001b[39m\u001b[38;5;241m.\u001b[39mtranslate_In(ops[\u001b[38;5;241m0\u001b[39m])\n\u001b[1;32m    717\u001b[0m     binop \u001b[38;5;241m=\u001b[39m ast\u001b[38;5;241m.\u001b[39mBinOp(op\u001b[38;5;241m=\u001b[39mop, left\u001b[38;5;241m=\u001b[39mnode\u001b[38;5;241m.\u001b[39mleft, right\u001b[38;5;241m=\u001b[39mcomps[\u001b[38;5;241m0\u001b[39m])\n\u001b[0;32m--> 718\u001b[0m     \u001b[38;5;28;01mreturn\u001b[39;00m \u001b[38;5;28mself\u001b[39m\u001b[38;5;241m.\u001b[39mvisit(binop)\n\u001b[1;32m    720\u001b[0m \u001b[38;5;66;03m# recursive case: we have a chained comparison, a CMP b CMP c, etc.\u001b[39;00m\n\u001b[1;32m    721\u001b[0m left \u001b[38;5;241m=\u001b[39m node\u001b[38;5;241m.\u001b[39mleft\n",
      "File \u001b[0;32m~/miniconda3/lib/python3.11/site-packages/pandas/core/computation/expr.py:411\u001b[0m, in \u001b[0;36mBaseExprVisitor.visit\u001b[0;34m(self, node, **kwargs)\u001b[0m\n\u001b[1;32m    409\u001b[0m method \u001b[38;5;241m=\u001b[39m \u001b[38;5;124mf\u001b[39m\u001b[38;5;124m\"\u001b[39m\u001b[38;5;124mvisit_\u001b[39m\u001b[38;5;132;01m{\u001b[39;00m\u001b[38;5;28mtype\u001b[39m(node)\u001b[38;5;241m.\u001b[39m\u001b[38;5;18m__name__\u001b[39m\u001b[38;5;132;01m}\u001b[39;00m\u001b[38;5;124m\"\u001b[39m\n\u001b[1;32m    410\u001b[0m visitor \u001b[38;5;241m=\u001b[39m \u001b[38;5;28mgetattr\u001b[39m(\u001b[38;5;28mself\u001b[39m, method)\n\u001b[0;32m--> 411\u001b[0m \u001b[38;5;28;01mreturn\u001b[39;00m visitor(node, \u001b[38;5;241m*\u001b[39m\u001b[38;5;241m*\u001b[39mkwargs)\n",
      "File \u001b[0;32m~/miniconda3/lib/python3.11/site-packages/pandas/core/computation/expr.py:531\u001b[0m, in \u001b[0;36mBaseExprVisitor.visit_BinOp\u001b[0;34m(self, node, **kwargs)\u001b[0m\n\u001b[1;32m    530\u001b[0m \u001b[38;5;28;01mdef\u001b[39;00m \u001b[38;5;21mvisit_BinOp\u001b[39m(\u001b[38;5;28mself\u001b[39m, node, \u001b[38;5;241m*\u001b[39m\u001b[38;5;241m*\u001b[39mkwargs):\n\u001b[0;32m--> 531\u001b[0m     op, op_class, left, right \u001b[38;5;241m=\u001b[39m \u001b[38;5;28mself\u001b[39m\u001b[38;5;241m.\u001b[39m_maybe_transform_eq_ne(node)\n\u001b[1;32m    532\u001b[0m     left, right \u001b[38;5;241m=\u001b[39m \u001b[38;5;28mself\u001b[39m\u001b[38;5;241m.\u001b[39m_maybe_downcast_constants(left, right)\n\u001b[1;32m    533\u001b[0m     \u001b[38;5;28;01mreturn\u001b[39;00m \u001b[38;5;28mself\u001b[39m\u001b[38;5;241m.\u001b[39m_maybe_evaluate_binop(op, op_class, left, right)\n",
      "File \u001b[0;32m~/miniconda3/lib/python3.11/site-packages/pandas/core/computation/expr.py:451\u001b[0m, in \u001b[0;36mBaseExprVisitor._maybe_transform_eq_ne\u001b[0;34m(self, node, left, right)\u001b[0m\n\u001b[1;32m    449\u001b[0m \u001b[38;5;28;01mdef\u001b[39;00m \u001b[38;5;21m_maybe_transform_eq_ne\u001b[39m(\u001b[38;5;28mself\u001b[39m, node, left\u001b[38;5;241m=\u001b[39m\u001b[38;5;28;01mNone\u001b[39;00m, right\u001b[38;5;241m=\u001b[39m\u001b[38;5;28;01mNone\u001b[39;00m):\n\u001b[1;32m    450\u001b[0m     \u001b[38;5;28;01mif\u001b[39;00m left \u001b[38;5;129;01mis\u001b[39;00m \u001b[38;5;28;01mNone\u001b[39;00m:\n\u001b[0;32m--> 451\u001b[0m         left \u001b[38;5;241m=\u001b[39m \u001b[38;5;28mself\u001b[39m\u001b[38;5;241m.\u001b[39mvisit(node\u001b[38;5;241m.\u001b[39mleft, side\u001b[38;5;241m=\u001b[39m\u001b[38;5;124m\"\u001b[39m\u001b[38;5;124mleft\u001b[39m\u001b[38;5;124m\"\u001b[39m)\n\u001b[1;32m    452\u001b[0m     \u001b[38;5;28;01mif\u001b[39;00m right \u001b[38;5;129;01mis\u001b[39;00m \u001b[38;5;28;01mNone\u001b[39;00m:\n\u001b[1;32m    453\u001b[0m         right \u001b[38;5;241m=\u001b[39m \u001b[38;5;28mself\u001b[39m\u001b[38;5;241m.\u001b[39mvisit(node\u001b[38;5;241m.\u001b[39mright, side\u001b[38;5;241m=\u001b[39m\u001b[38;5;124m\"\u001b[39m\u001b[38;5;124mright\u001b[39m\u001b[38;5;124m\"\u001b[39m)\n",
      "File \u001b[0;32m~/miniconda3/lib/python3.11/site-packages/pandas/core/computation/expr.py:411\u001b[0m, in \u001b[0;36mBaseExprVisitor.visit\u001b[0;34m(self, node, **kwargs)\u001b[0m\n\u001b[1;32m    409\u001b[0m method \u001b[38;5;241m=\u001b[39m \u001b[38;5;124mf\u001b[39m\u001b[38;5;124m\"\u001b[39m\u001b[38;5;124mvisit_\u001b[39m\u001b[38;5;132;01m{\u001b[39;00m\u001b[38;5;28mtype\u001b[39m(node)\u001b[38;5;241m.\u001b[39m\u001b[38;5;18m__name__\u001b[39m\u001b[38;5;132;01m}\u001b[39;00m\u001b[38;5;124m\"\u001b[39m\n\u001b[1;32m    410\u001b[0m visitor \u001b[38;5;241m=\u001b[39m \u001b[38;5;28mgetattr\u001b[39m(\u001b[38;5;28mself\u001b[39m, method)\n\u001b[0;32m--> 411\u001b[0m \u001b[38;5;28;01mreturn\u001b[39;00m visitor(node, \u001b[38;5;241m*\u001b[39m\u001b[38;5;241m*\u001b[39mkwargs)\n",
      "File \u001b[0;32m~/miniconda3/lib/python3.11/site-packages/pandas/core/computation/expr.py:544\u001b[0m, in \u001b[0;36mBaseExprVisitor.visit_Name\u001b[0;34m(self, node, **kwargs)\u001b[0m\n\u001b[1;32m    543\u001b[0m \u001b[38;5;28;01mdef\u001b[39;00m \u001b[38;5;21mvisit_Name\u001b[39m(\u001b[38;5;28mself\u001b[39m, node, \u001b[38;5;241m*\u001b[39m\u001b[38;5;241m*\u001b[39mkwargs):\n\u001b[0;32m--> 544\u001b[0m     \u001b[38;5;28;01mreturn\u001b[39;00m \u001b[38;5;28mself\u001b[39m\u001b[38;5;241m.\u001b[39mterm_type(node\u001b[38;5;241m.\u001b[39mid, \u001b[38;5;28mself\u001b[39m\u001b[38;5;241m.\u001b[39menv, \u001b[38;5;241m*\u001b[39m\u001b[38;5;241m*\u001b[39mkwargs)\n",
      "File \u001b[0;32m~/miniconda3/lib/python3.11/site-packages/pandas/core/computation/ops.py:91\u001b[0m, in \u001b[0;36mTerm.__init__\u001b[0;34m(self, name, env, side, encoding)\u001b[0m\n\u001b[1;32m     89\u001b[0m tname \u001b[38;5;241m=\u001b[39m \u001b[38;5;28mstr\u001b[39m(name)\n\u001b[1;32m     90\u001b[0m \u001b[38;5;28mself\u001b[39m\u001b[38;5;241m.\u001b[39mis_local \u001b[38;5;241m=\u001b[39m tname\u001b[38;5;241m.\u001b[39mstartswith(LOCAL_TAG) \u001b[38;5;129;01mor\u001b[39;00m tname \u001b[38;5;129;01min\u001b[39;00m DEFAULT_GLOBALS\n\u001b[0;32m---> 91\u001b[0m \u001b[38;5;28mself\u001b[39m\u001b[38;5;241m.\u001b[39m_value \u001b[38;5;241m=\u001b[39m \u001b[38;5;28mself\u001b[39m\u001b[38;5;241m.\u001b[39m_resolve_name()\n\u001b[1;32m     92\u001b[0m \u001b[38;5;28mself\u001b[39m\u001b[38;5;241m.\u001b[39mencoding \u001b[38;5;241m=\u001b[39m encoding\n",
      "File \u001b[0;32m~/miniconda3/lib/python3.11/site-packages/pandas/core/computation/ops.py:115\u001b[0m, in \u001b[0;36mTerm._resolve_name\u001b[0;34m(self)\u001b[0m\n\u001b[1;32m    110\u001b[0m \u001b[38;5;28;01mif\u001b[39;00m local_name \u001b[38;5;129;01min\u001b[39;00m \u001b[38;5;28mself\u001b[39m\u001b[38;5;241m.\u001b[39menv\u001b[38;5;241m.\u001b[39mscope \u001b[38;5;129;01mand\u001b[39;00m \u001b[38;5;28misinstance\u001b[39m(\n\u001b[1;32m    111\u001b[0m     \u001b[38;5;28mself\u001b[39m\u001b[38;5;241m.\u001b[39menv\u001b[38;5;241m.\u001b[39mscope[local_name], \u001b[38;5;28mtype\u001b[39m\n\u001b[1;32m    112\u001b[0m ):\n\u001b[1;32m    113\u001b[0m     is_local \u001b[38;5;241m=\u001b[39m \u001b[38;5;28;01mFalse\u001b[39;00m\n\u001b[0;32m--> 115\u001b[0m res \u001b[38;5;241m=\u001b[39m \u001b[38;5;28mself\u001b[39m\u001b[38;5;241m.\u001b[39menv\u001b[38;5;241m.\u001b[39mresolve(local_name, is_local\u001b[38;5;241m=\u001b[39mis_local)\n\u001b[1;32m    116\u001b[0m \u001b[38;5;28mself\u001b[39m\u001b[38;5;241m.\u001b[39mupdate(res)\n\u001b[1;32m    118\u001b[0m \u001b[38;5;28;01mif\u001b[39;00m \u001b[38;5;28mhasattr\u001b[39m(res, \u001b[38;5;124m\"\u001b[39m\u001b[38;5;124mndim\u001b[39m\u001b[38;5;124m\"\u001b[39m) \u001b[38;5;129;01mand\u001b[39;00m res\u001b[38;5;241m.\u001b[39mndim \u001b[38;5;241m>\u001b[39m \u001b[38;5;241m2\u001b[39m:\n",
      "File \u001b[0;32m~/miniconda3/lib/python3.11/site-packages/pandas/core/computation/scope.py:244\u001b[0m, in \u001b[0;36mScope.resolve\u001b[0;34m(self, key, is_local)\u001b[0m\n\u001b[1;32m    242\u001b[0m     \u001b[38;5;28;01mreturn\u001b[39;00m \u001b[38;5;28mself\u001b[39m\u001b[38;5;241m.\u001b[39mtemps[key]\n\u001b[1;32m    243\u001b[0m \u001b[38;5;28;01mexcept\u001b[39;00m \u001b[38;5;167;01mKeyError\u001b[39;00m \u001b[38;5;28;01mas\u001b[39;00m err:\n\u001b[0;32m--> 244\u001b[0m     \u001b[38;5;28;01mraise\u001b[39;00m UndefinedVariableError(key, is_local) \u001b[38;5;28;01mfrom\u001b[39;00m \u001b[38;5;21;01merr\u001b[39;00m\n",
      "\u001b[0;31mUndefinedVariableError\u001b[0m: name 'observed_t' is not defined"
     ]
    }
   ],
   "source": [
    "%%time\n",
    "map_compare = KeplerGl(height=600, config = {\n",
    "    'version': 'v1',\n",
    "    'config': {\n",
    "        'mapState': {\n",
    "            'latitude': 44.9375,\n",
    "            'longitude': -93.2010,\n",
    "            'zoom': 7.5\n",
    "        }\n",
    "    }\n",
    "})\n",
    "\n",
    "map_compare.add_data(data=flow_gdf.query('observed_t>1'), name='observe')\n",
    "map_compare.add_data(data=flow_gdf.query('observed_t>1'), name='predict')\n",
    "\n",
    "map_compare.config = {\n",
    "    'version': 'v1',\n",
    "    'config': {\n",
    "        'mapState': {\n",
    "            'latitude': 44.9375,\n",
    "            'longitude': -93.2010,\n",
    "            'zoom': 7.5\n",
    "        }\n",
    "    }\n",
    "}"
   ]
  },
  {
   "cell_type": "code",
   "execution_count": 87,
   "id": "47d06c77-c47c-4968-899e-bafb9dc744fc",
   "metadata": {
    "tags": []
   },
   "outputs": [
    {
     "data": {
      "application/vnd.jupyter.widget-view+json": {
       "model_id": "586adc5c7acc43638ef20e9c6cf4f3ac",
       "version_major": 2,
       "version_minor": 0
      },
      "text/plain": [
       "KeplerGl(config={'version': 'v1', 'config': {'mapState': {'latitude': 44.9375, 'longitude': -93.201, 'zoom': 7…"
      ]
     },
     "metadata": {},
     "output_type": "display_data"
    }
   ],
   "source": [
    "map_compare"
   ]
  }
 ],
 "metadata": {
  "kernelspec": {
   "display_name": "Python 3 (ipykernel)",
   "language": "python",
   "name": "python3"
  },
  "language_info": {
   "codemirror_mode": {
    "name": "ipython",
    "version": 3
   },
   "file_extension": ".py",
   "mimetype": "text/x-python",
   "name": "python",
   "nbconvert_exporter": "python",
   "pygments_lexer": "ipython3",
   "version": "3.11.5"
  }
 },
 "nbformat": 4,
 "nbformat_minor": 5
}
